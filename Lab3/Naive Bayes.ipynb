{
 "cells": [
  {
   "cell_type": "markdown",
   "metadata": {},
   "source": [
    "# Naive Bayes Classifier"
   ]
  },
  {
   "cell_type": "markdown",
   "metadata": {},
   "source": [
    "Implementing a Naive Bayes Classifier from scratch."
   ]
  },
  {
   "cell_type": "markdown",
   "metadata": {},
   "source": [
    "### Step 0: Loading Data"
   ]
  },
  {
   "cell_type": "code",
   "execution_count": 7,
   "metadata": {
    "ExecuteTime": {
     "end_time": "2019-10-27T19:50:43.888843Z",
     "start_time": "2019-10-27T19:50:42.766827Z"
    }
   },
   "outputs": [],
   "source": [
    "import numpy as np\n",
    "import pandas as pd\n",
    "import seaborn as sns\n",
    "import matplotlib.pyplot as plt\n",
    "%matplotlib inline\n",
    "import warnings\n",
    "warnings.filterwarnings('ignore')"
   ]
  },
  {
   "cell_type": "code",
   "execution_count": 8,
   "metadata": {
    "ExecuteTime": {
     "end_time": "2019-10-27T19:50:43.937723Z",
     "start_time": "2019-10-27T19:50:43.889836Z"
    }
   },
   "outputs": [
    {
     "data": {
      "text/html": [
       "<div>\n",
       "<style scoped>\n",
       "    .dataframe tbody tr th:only-of-type {\n",
       "        vertical-align: middle;\n",
       "    }\n",
       "\n",
       "    .dataframe tbody tr th {\n",
       "        vertical-align: top;\n",
       "    }\n",
       "\n",
       "    .dataframe thead th {\n",
       "        text-align: right;\n",
       "    }\n",
       "</style>\n",
       "<table border=\"1\" class=\"dataframe\">\n",
       "  <thead>\n",
       "    <tr style=\"text-align: right;\">\n",
       "      <th></th>\n",
       "      <th>Pregnancies</th>\n",
       "      <th>Glucose</th>\n",
       "      <th>BloodPressure</th>\n",
       "      <th>SkinThickness</th>\n",
       "      <th>Insulin</th>\n",
       "      <th>BMI</th>\n",
       "      <th>DiabetesPedigreeFunction</th>\n",
       "      <th>Age</th>\n",
       "      <th>Outcome</th>\n",
       "    </tr>\n",
       "  </thead>\n",
       "  <tbody>\n",
       "    <tr>\n",
       "      <th>0</th>\n",
       "      <td>6</td>\n",
       "      <td>148</td>\n",
       "      <td>72</td>\n",
       "      <td>35</td>\n",
       "      <td>0</td>\n",
       "      <td>33.6</td>\n",
       "      <td>0.627</td>\n",
       "      <td>50</td>\n",
       "      <td>1</td>\n",
       "    </tr>\n",
       "    <tr>\n",
       "      <th>1</th>\n",
       "      <td>1</td>\n",
       "      <td>85</td>\n",
       "      <td>66</td>\n",
       "      <td>29</td>\n",
       "      <td>0</td>\n",
       "      <td>26.6</td>\n",
       "      <td>0.351</td>\n",
       "      <td>31</td>\n",
       "      <td>0</td>\n",
       "    </tr>\n",
       "    <tr>\n",
       "      <th>2</th>\n",
       "      <td>8</td>\n",
       "      <td>183</td>\n",
       "      <td>64</td>\n",
       "      <td>0</td>\n",
       "      <td>0</td>\n",
       "      <td>23.3</td>\n",
       "      <td>0.672</td>\n",
       "      <td>32</td>\n",
       "      <td>1</td>\n",
       "    </tr>\n",
       "    <tr>\n",
       "      <th>3</th>\n",
       "      <td>1</td>\n",
       "      <td>89</td>\n",
       "      <td>66</td>\n",
       "      <td>23</td>\n",
       "      <td>94</td>\n",
       "      <td>28.1</td>\n",
       "      <td>0.167</td>\n",
       "      <td>21</td>\n",
       "      <td>0</td>\n",
       "    </tr>\n",
       "    <tr>\n",
       "      <th>4</th>\n",
       "      <td>0</td>\n",
       "      <td>137</td>\n",
       "      <td>40</td>\n",
       "      <td>35</td>\n",
       "      <td>168</td>\n",
       "      <td>43.1</td>\n",
       "      <td>2.288</td>\n",
       "      <td>33</td>\n",
       "      <td>1</td>\n",
       "    </tr>\n",
       "  </tbody>\n",
       "</table>\n",
       "</div>"
      ],
      "text/plain": [
       "   Pregnancies  Glucose  BloodPressure  SkinThickness  Insulin   BMI  \\\n",
       "0            6      148             72             35        0  33.6   \n",
       "1            1       85             66             29        0  26.6   \n",
       "2            8      183             64              0        0  23.3   \n",
       "3            1       89             66             23       94  28.1   \n",
       "4            0      137             40             35      168  43.1   \n",
       "\n",
       "   DiabetesPedigreeFunction  Age  Outcome  \n",
       "0                     0.627   50        1  \n",
       "1                     0.351   31        0  \n",
       "2                     0.672   32        1  \n",
       "3                     0.167   21        0  \n",
       "4                     2.288   33        1  "
      ]
     },
     "execution_count": 8,
     "metadata": {},
     "output_type": "execute_result"
    }
   ],
   "source": [
    "df = pd.read_csv('diabetes.csv')\n",
    "df.head()"
   ]
  },
  {
   "cell_type": "code",
   "execution_count": 9,
   "metadata": {
    "ExecuteTime": {
     "end_time": "2019-10-27T19:50:43.937723Z",
     "start_time": "2019-10-27T19:50:43.889836Z"
    }
   },
   "outputs": [
    {
     "name": "stdout",
     "output_type": "stream",
     "text": [
      "<class 'pandas.core.frame.DataFrame'>\n",
      "RangeIndex: 768 entries, 0 to 767\n",
      "Data columns (total 9 columns):\n",
      " #   Column                    Non-Null Count  Dtype  \n",
      "---  ------                    --------------  -----  \n",
      " 0   Pregnancies               768 non-null    int64  \n",
      " 1   Glucose                   768 non-null    int64  \n",
      " 2   BloodPressure             768 non-null    int64  \n",
      " 3   SkinThickness             768 non-null    int64  \n",
      " 4   Insulin                   768 non-null    int64  \n",
      " 5   BMI                       768 non-null    float64\n",
      " 6   DiabetesPedigreeFunction  768 non-null    float64\n",
      " 7   Age                       768 non-null    int64  \n",
      " 8   Outcome                   768 non-null    int64  \n",
      "dtypes: float64(2), int64(7)\n",
      "memory usage: 54.1 KB\n"
     ]
    }
   ],
   "source": [
    "df.info()"
   ]
  },
  {
   "cell_type": "code",
   "execution_count": 4,
   "metadata": {
    "ExecuteTime": {
     "end_time": "2019-10-27T19:50:43.960614Z",
     "start_time": "2019-10-27T19:50:43.954630Z"
    }
   },
   "outputs": [
    {
     "data": {
      "text/plain": [
       "False"
      ]
     },
     "execution_count": 4,
     "metadata": {},
     "output_type": "execute_result"
    }
   ],
   "source": [
    "df.isnull().any().any()"
   ]
  },
  {
   "cell_type": "markdown",
   "metadata": {},
   "source": [
    "Q1. Fill out this function which splits the dataset into X_train, y_train, X_test, y_test."
   ]
  },
  {
   "cell_type": "code",
   "execution_count": 12,
   "metadata": {
    "ExecuteTime": {
     "end_time": "2019-10-27T19:50:43.969591Z",
     "start_time": "2019-10-27T19:50:43.963612Z"
    }
   },
   "outputs": [],
   "source": [
    "def splitDataset(dataset, split, target_label):\n",
    "    # Complete\n",
    "    return None"
   ]
  },
  {
   "cell_type": "code",
   "execution_count": 13,
   "metadata": {
    "ExecuteTime": {
     "end_time": "2019-10-27T19:50:43.980560Z",
     "start_time": "2019-10-27T19:50:43.971583Z"
    }
   },
   "outputs": [
    {
     "data": {
      "text/html": [
       "<div>\n",
       "<style scoped>\n",
       "    .dataframe tbody tr th:only-of-type {\n",
       "        vertical-align: middle;\n",
       "    }\n",
       "\n",
       "    .dataframe tbody tr th {\n",
       "        vertical-align: top;\n",
       "    }\n",
       "\n",
       "    .dataframe thead th {\n",
       "        text-align: right;\n",
       "    }\n",
       "</style>\n",
       "<table border=\"1\" class=\"dataframe\">\n",
       "  <thead>\n",
       "    <tr style=\"text-align: right;\">\n",
       "      <th></th>\n",
       "      <th>Feature1</th>\n",
       "      <th>Feature2</th>\n",
       "      <th>Target</th>\n",
       "    </tr>\n",
       "  </thead>\n",
       "  <tbody>\n",
       "    <tr>\n",
       "      <th>0</th>\n",
       "      <td>1</td>\n",
       "      <td>3</td>\n",
       "      <td>0</td>\n",
       "    </tr>\n",
       "    <tr>\n",
       "      <th>1</th>\n",
       "      <td>2</td>\n",
       "      <td>4</td>\n",
       "      <td>0</td>\n",
       "    </tr>\n",
       "    <tr>\n",
       "      <th>2</th>\n",
       "      <td>3</td>\n",
       "      <td>5</td>\n",
       "      <td>1</td>\n",
       "    </tr>\n",
       "    <tr>\n",
       "      <th>3</th>\n",
       "      <td>4</td>\n",
       "      <td>6</td>\n",
       "      <td>1</td>\n",
       "    </tr>\n",
       "    <tr>\n",
       "      <th>4</th>\n",
       "      <td>5</td>\n",
       "      <td>7</td>\n",
       "      <td>1</td>\n",
       "    </tr>\n",
       "  </tbody>\n",
       "</table>\n",
       "</div>"
      ],
      "text/plain": [
       "   Feature1  Feature2  Target\n",
       "0         1         3       0\n",
       "1         2         4       0\n",
       "2         3         5       1\n",
       "3         4         6       1\n",
       "4         5         7       1"
      ]
     },
     "execution_count": 13,
     "metadata": {},
     "output_type": "execute_result"
    }
   ],
   "source": [
    "dataset = pd.DataFrame([[1, 0], [2, 0], [3, 1], [4, 1], [5, 1]])\n",
    "\n",
    "dataset = pd.DataFrame({\n",
    "    'Feature1' : [1,2,3,4,5],\n",
    "    'Feature2' : [3,4,5,6,7],\n",
    "    'Target' : [0,0,1,1,1]\n",
    "})\n",
    "\n",
    "dataset"
   ]
  },
  {
   "cell_type": "code",
   "execution_count": null,
   "metadata": {
    "ExecuteTime": {
     "end_time": "2019-10-27T19:50:43.980560Z",
     "start_time": "2019-10-27T19:50:43.971583Z"
    }
   },
   "outputs": [],
   "source": [
    "split = 0.67\n",
    "target_label = 'Target'\n",
    "X_train, y_train, X_test, y_test = splitDataset(dataset, split, target_label)\n",
    "\n",
    "print(('Split {0} rows into train with {1} and test with {2}').format(len(dataset), len(y_train), len(y_test)))\n",
    "print(X_train.shape, y_train.shape, X_test.shape, y_test.shape)"
   ]
  },
  {
   "cell_type": "markdown",
   "metadata": {},
   "source": [
    "### Step 1: Separate By Class\n",
    "\n",
    "Q2. Fill out this function which separates the data by class(labels). Create a dictionary object where the keys are the class value and then add a list of all the records that have the class as the value in the dictionary."
   ]
  },
  {
   "cell_type": "code",
   "execution_count": 7,
   "metadata": {
    "ExecuteTime": {
     "end_time": "2019-10-27T19:50:43.989563Z",
     "start_time": "2019-10-27T19:50:43.984550Z"
    }
   },
   "outputs": [],
   "source": [
    "def separateByClass(X, y):\n",
    "    '''\n",
    "    Returns a dict with each key maps to a list\n",
    "    of rows belonging to that class.\n",
    "    '''\n",
    "    \n",
    "    separated = {}\n",
    "    \n",
    "    # Complete\n",
    "    \n",
    "    return separated"
   ]
  },
  {
   "cell_type": "code",
   "execution_count": null,
   "metadata": {
    "ExecuteTime": {
     "end_time": "2019-10-27T19:50:43.999510Z",
     "start_time": "2019-10-27T19:50:43.992528Z"
    }
   },
   "outputs": [],
   "source": [
    "# This cell should run properly\n",
    "\n",
    "X = [[1, 20], [2, 21], [3, 22]]\n",
    "y = [1, 0, 1]\n",
    "\n",
    "separated = separateByClass(X, y)\n",
    "print(\"Rows belonging to class 0 : \", separated[0])\n",
    "print(\"Rows belonging to class 1 : \", separated[1])"
   ]
  },
  {
   "cell_type": "markdown",
   "metadata": {},
   "source": [
    "### Step 2: Summarize Data\n",
    "- Q3. Fill out functions which return the mean and standard deviation of a list of numbers.\n",
    "- NOTE : \n",
    "[Use n-1 in the sample varience formula.](https://web.ma.utexas.edu/users/mks/M358KInstr/SampleSDPf.pdf)\n"
   ]
  },
  {
   "cell_type": "code",
   "execution_count": 9,
   "metadata": {
    "ExecuteTime": {
     "end_time": "2019-10-27T19:50:44.006501Z",
     "start_time": "2019-10-27T19:50:44.001503Z"
    }
   },
   "outputs": [],
   "source": [
    "import math\n",
    "\n",
    "def mean(numbers):\n",
    "    '''Return mean of numbers'''\n",
    "    return None\n",
    "\n",
    "def stdev(numbers):\n",
    "    '''\n",
    "    Return standard deviation of numbers\n",
    "    '''\n",
    "    return None"
   ]
  },
  {
   "cell_type": "code",
   "execution_count": null,
   "metadata": {
    "ExecuteTime": {
     "end_time": "2019-10-27T19:50:44.013471Z",
     "start_time": "2019-10-27T19:50:44.008485Z"
    }
   },
   "outputs": [],
   "source": [
    "# This cell should run properly\n",
    "\n",
    "numbers = [1, 2, 3, 4, 5]\n",
    "print(('Summary of {0}: mean={1}, stdev={2}').format(numbers, mean(numbers), stdev(numbers)))"
   ]
  },
  {
   "cell_type": "markdown",
   "metadata": {},
   "source": [
    "Q4. Fill out a function which calculates the mean and standard deviation of each column in a dataset. Store the mean and standard deviation for each column as a tuple or list. Return a list that contains each column's statistics (mean, stdev)."
   ]
  },
  {
   "cell_type": "code",
   "execution_count": 11,
   "metadata": {
    "ExecuteTime": {
     "end_time": "2019-10-27T19:50:44.019470Z",
     "start_time": "2019-10-27T19:50:44.015468Z"
    }
   },
   "outputs": [],
   "source": [
    "def summarize(X):\n",
    "    '''\n",
    "    Return a list of shape (num_cols,2) where the ith\n",
    "    element is (mean_col_i, stdev_col_i).\n",
    "    '''\n",
    "    \n",
    "    return None"
   ]
  },
  {
   "cell_type": "code",
   "execution_count": null,
   "metadata": {
    "ExecuteTime": {
     "end_time": "2019-10-27T19:50:44.027436Z",
     "start_time": "2019-10-27T19:50:44.020456Z"
    }
   },
   "outputs": [],
   "source": [
    "# This cell should run properly\n",
    "dataset = [[1, 20, 4], [2, 21, 0], [3, 22, 10], [4,20,7]]\n",
    "print(np.array(dataset))\n",
    "\n",
    "summary = summarize(dataset)\n",
    "print(('\\n Attribute summaries: {0}').format(summary))"
   ]
  },
  {
   "cell_type": "markdown",
   "metadata": {},
   "source": [
    "### Step 3: Summarize Data By Class"
   ]
  },
  {
   "cell_type": "markdown",
   "metadata": {},
   "source": [
    "Q5. Summarize the columns in the dataset organized by class values. Split the dataset by class, then calculate statistics on each subset. Return a dictionary that contains the results in the form of a list of tuples of statistics for each class value."
   ]
  },
  {
   "cell_type": "code",
   "execution_count": 13,
   "metadata": {
    "ExecuteTime": {
     "end_time": "2019-10-27T19:50:44.034417Z",
     "start_time": "2019-10-27T19:50:44.029432Z"
    }
   },
   "outputs": [],
   "source": [
    "def summarizeByClass(X, y):\n",
    "    '''\n",
    "    Return a dict containing class summariy lists for values.\n",
    "    Map each summary to the class label.\n",
    "    \n",
    "    Use the `separateByClass` and then then `summarize` function \n",
    "    for each class.\n",
    "    '''\n",
    "    \n",
    "    return None"
   ]
  },
  {
   "cell_type": "code",
   "execution_count": null,
   "metadata": {
    "ExecuteTime": {
     "end_time": "2019-10-27T19:50:44.040412Z",
     "start_time": "2019-10-27T19:50:44.036411Z"
    }
   },
   "outputs": [],
   "source": [
    "# This should work properly\n",
    "\n",
    "X = [[1, 20, 4], [2, 21, 0], [3, 22, 10], [4,20,7]]\n",
    "y = [1, 0, 1, 0]\n",
    "\n",
    "print(np.array(X))\n",
    "summary = summarizeByClass(X, y)\n",
    "\n",
    "print('\\nSummary by class value:')\n",
    "print(\"\\t Class0 : \", summary[0])\n",
    "print(\"\\t Class1 : \", summary[1])"
   ]
  },
  {
   "cell_type": "markdown",
   "metadata": {},
   "source": [
    "### Step 4: Gaussian Probability Density Function\n",
    "\n",
    "We will now calculate the probability or likelihood of a data point to belong to a certain class.\n",
    "\n",
    "One way we can do this is to assume that data is drawn from a distribution, such as a bell curve or Gaussian distribution.\n",
    "\n",
    "Q6. Fill out the function which calculates the likelihood of data point using Gaussian density function. \n",
    "<img src=https://wikimedia.org/api/rest_v1/media/math/render/svg/f0506065a47bd1efc86fe9aa01a1ed66c6846a02>"
   ]
  },
  {
   "cell_type": "code",
   "execution_count": 15,
   "metadata": {
    "ExecuteTime": {
     "end_time": "2019-10-27T19:50:44.048894Z",
     "start_time": "2019-10-27T19:50:44.042956Z"
    }
   },
   "outputs": [],
   "source": [
    "def calculateProbability(x, mean, stdev):\n",
    "    '''\n",
    "    Use the Gaussian Probability Density Function\n",
    "    to estimate the probablity of a point belonging\n",
    "    to a certain class.\n",
    "    '''\n",
    "    \n",
    "    return None"
   ]
  },
  {
   "cell_type": "code",
   "execution_count": null,
   "metadata": {
    "ExecuteTime": {
     "end_time": "2019-10-27T19:50:44.056866Z",
     "start_time": "2019-10-27T19:50:44.051880Z"
    }
   },
   "outputs": [],
   "source": [
    "# This cell should run properly\n",
    "\n",
    "x1 = 70.5\n",
    "mean1 = 73\n",
    "stdev1 = 10\n",
    "\n",
    "probability = calculateProbability(x1, mean1, stdev1)\n",
    "print(('Probability of belonging to this class: {0}').format(probability))"
   ]
  },
  {
   "cell_type": "markdown",
   "metadata": {},
   "source": [
    "### Step 5: Class Probabilities\n",
    "\n",
    "Q7. Fill out the function which calculates the probability that a data point belongs to either class. We can calculate the probabilities of an attribute belonging to a class using the above function, and we can combine the probabilities by multiplying them(Naive). Thus, this function returns a dictionary which shows the probability that the data summary belongs to a particular class.\n",
    "\n",
    "    P(class=0|X1,X2) = P(X1|class=0) * P(X2|class=0) * P(class=0)"
   ]
  },
  {
   "cell_type": "code",
   "execution_count": 14,
   "metadata": {
    "ExecuteTime": {
     "end_time": "2019-10-27T19:50:44.063846Z",
     "start_time": "2019-10-27T19:50:44.058862Z"
    }
   },
   "outputs": [],
   "source": [
    "def calculateClassProbabilities(summaries, inputVector):\n",
    "    '''\n",
    "    Map each class label to the probablity of the point\n",
    "    belonging to that particular class. Use the Naive \n",
    "    Bayes assumption of conditional independence.\n",
    "    \n",
    "    Also use the `calculateProbability` function defined \n",
    "    above.\n",
    "    '''\n",
    "    \n",
    "    probabilities = {}\n",
    "    #Complete\n",
    "    return probabilities"
   ]
  },
  {
   "cell_type": "code",
   "execution_count": null,
   "metadata": {
    "ExecuteTime": {
     "end_time": "2019-10-27T19:50:44.071841Z",
     "start_time": "2019-10-27T19:50:44.066842Z"
    }
   },
   "outputs": [],
   "source": [
    "# This cell should run properly\n",
    "\n",
    "# Single Attribute, Two classes\n",
    "summaries = {0: [(1, 0.5)], 1: [(20, 5.0)]}\n",
    "\n",
    "# One attribute, and one label to predict.\n",
    "inputVector = [1.1, '?']\n",
    "probabilities = calculateClassProbabilities(summaries, inputVector)\n",
    "\n",
    "print(probabilities)\n",
    "print(('\\nProbabilities for each class: '))\n",
    "print(\"\\t Class0 : \", probabilities[0])\n",
    "print(\"\\t Class1 : \", probabilities[1])"
   ]
  },
  {
   "cell_type": "markdown",
   "metadata": {},
   "source": [
    "Q8a. Fill out the function which makes the prediction which class a datapoint belongs to. [Hint](https://stackoverflow.com/questions/268272/getting-key-with-maximum-value-in-dictionary0)"
   ]
  },
  {
   "cell_type": "code",
   "execution_count": 19,
   "metadata": {
    "ExecuteTime": {
     "end_time": "2019-10-27T19:50:44.079804Z",
     "start_time": "2019-10-27T19:50:44.073822Z"
    }
   },
   "outputs": [],
   "source": [
    "def predict(summaries, inputVector):\n",
    "    '''\n",
    "    Return class with maximum probablity.\n",
    "    Class label should be the same with which it is \n",
    "    referred to in `summaries`.\n",
    "    \n",
    "    Hint : Use the `calculateClassProbabilities`\n",
    "    function.\n",
    "    '''\n",
    "    \n",
    "    return None"
   ]
  },
  {
   "cell_type": "code",
   "execution_count": null,
   "metadata": {
    "ExecuteTime": {
     "end_time": "2019-10-27T19:50:44.086786Z",
     "start_time": "2019-10-27T19:50:44.081799Z"
    }
   },
   "outputs": [],
   "source": [
    "# This cell should run properly\n",
    "\n",
    "# When our dataset has 2 attributes/features\n",
    "summaries = {\n",
    "    'A': [(1, 0.5), (2, 1)], \n",
    "    'B': [(20, 5.0), (20, 1.0)]\n",
    "}\n",
    "\n",
    "inputVector1 = [1.1, 4]\n",
    "result1 = predict(summaries, inputVector1)\n",
    "print(('Prediction for vec1: {0}').format(result1))\n",
    "print()\n",
    "\n",
    "inputVector2 = [18.0, 20.0]\n",
    "result2 = predict(summaries, inputVector2)\n",
    "print(('Prediction for vec2: {0}').format(result2))"
   ]
  },
  {
   "cell_type": "markdown",
   "metadata": {},
   "source": [
    "Q8b. Fill out this function for generating predictions for a list of test datapoints."
   ]
  },
  {
   "cell_type": "code",
   "execution_count": 21,
   "metadata": {
    "ExecuteTime": {
     "end_time": "2019-10-27T19:50:44.094772Z",
     "start_time": "2019-10-27T19:50:44.088782Z"
    }
   },
   "outputs": [],
   "source": [
    "def getPredictions(summaries, X_test):\n",
    "    '''\n",
    "    Get predictions for multiple data points\n",
    "    using the `predict` function.\n",
    "    '''\n",
    "    \n",
    "    predictions = []\n",
    "    #Complete\n",
    "    return predictions"
   ]
  },
  {
   "cell_type": "code",
   "execution_count": 22,
   "metadata": {
    "ExecuteTime": {
     "end_time": "2019-10-27T19:50:44.105735Z",
     "start_time": "2019-10-27T19:50:44.099752Z"
    }
   },
   "outputs": [
    {
     "name": "stdout",
     "output_type": "stream",
     "text": [
      "Predictions: ['A', 'B']\n"
     ]
    }
   ],
   "source": [
    "# This cell should run properly\n",
    "\n",
    "summaries = {'A': [(1, 0.5), (2, 1)], 'B': [(20, 5.0), (20, 1.0)]}\n",
    "testSet = [[1.1,3], [19.1, 16]]\n",
    "\n",
    "predictions = getPredictions(summaries, testSet)\n",
    "print(('Predictions: {0}').format(predictions))"
   ]
  },
  {
   "cell_type": "markdown",
   "metadata": {},
   "source": [
    "### Step 6: Get Accuracy\n",
    "\n",
    "Q9. Fill out this function which returns the accuracy of the predictions generated by the Naive Bayes Classifier."
   ]
  },
  {
   "cell_type": "code",
   "execution_count": 23,
   "metadata": {
    "ExecuteTime": {
     "end_time": "2019-10-27T19:50:44.114715Z",
     "start_time": "2019-10-27T19:50:44.108727Z"
    }
   },
   "outputs": [],
   "source": [
    "def getAccuracy(y_test, y_pred):\n",
    "    return None"
   ]
  },
  {
   "cell_type": "code",
   "execution_count": null,
   "metadata": {
    "ExecuteTime": {
     "end_time": "2019-10-27T19:50:44.121696Z",
     "start_time": "2019-10-27T19:50:44.116707Z"
    }
   },
   "outputs": [],
   "source": [
    "# This cell should run properly\n",
    "\n",
    "test = ['a', 'a', 'b']\n",
    "predictions = ['a', 'b', 'b']\n",
    "\n",
    "accuracy = getAccuracy(test, predictions)\n",
    "print(('Accuracy: {0}').format(accuracy))"
   ]
  },
  {
   "cell_type": "markdown",
   "metadata": {},
   "source": [
    "### Step 7: Combine it all\n",
    "\n",
    "Q10. Fill out this Naive Bayes function which takes in the dataframe and target_label parameters and prints its accuracy."
   ]
  },
  {
   "cell_type": "code",
   "execution_count": 25,
   "metadata": {
    "ExecuteTime": {
     "end_time": "2019-10-27T19:50:44.129673Z",
     "start_time": "2019-10-27T19:50:44.123687Z"
    }
   },
   "outputs": [],
   "source": [
    "def NaiveBayesClassifier(dataset, target_label):\n",
    "    split = 0.7\n",
    "    X_train, y_train, X_test, y_test = None\n",
    "    print(('Split {0} rows into train={1} and test={2} rows').format(len(dataset), len(y_train), len(y_test)))\n",
    "\n",
    "    summaries = None\n",
    "    y_pred = None\n",
    "\n",
    "    return None #return accuracy"
   ]
  },
  {
   "cell_type": "code",
   "execution_count": null,
   "metadata": {
    "ExecuteTime": {
     "end_time": "2019-10-27T19:50:44.167570Z",
     "start_time": "2019-10-27T19:50:44.131671Z"
    }
   },
   "outputs": [],
   "source": [
    "# This cell should run properly\n",
    "NaiveBayesClassifier(df, \"Outcome\")"
   ]
  },
  {
   "cell_type": "code",
   "execution_count": null,
   "metadata": {
    "ExecuteTime": {
     "end_time": "2019-10-27T19:50:44.167570Z",
     "start_time": "2019-10-27T19:50:44.131671Z"
    }
   },
   "outputs": [],
   "source": []
  },
  {
   "cell_type": "code",
   "execution_count": null,
   "metadata": {},
   "outputs": [],
   "source": []
  }
 ],
 "metadata": {
  "kernelspec": {
   "display_name": "Python 3",
   "language": "python",
   "name": "python3"
  },
  "language_info": {
   "codemirror_mode": {
    "name": "ipython",
    "version": 3
   },
   "file_extension": ".py",
   "mimetype": "text/x-python",
   "name": "python",
   "nbconvert_exporter": "python",
   "pygments_lexer": "ipython3",
   "version": "3.7.4"
  },
  "toc": {
   "base_numbering": 1,
   "nav_menu": {},
   "number_sections": true,
   "sideBar": true,
   "skip_h1_title": false,
   "title_cell": "Table of Contents",
   "title_sidebar": "Contents",
   "toc_cell": false,
   "toc_position": {},
   "toc_section_display": true,
   "toc_window_display": false
  },
  "varInspector": {
   "cols": {
    "lenName": 16,
    "lenType": 16,
    "lenVar": 40
   },
   "kernels_config": {
    "python": {
     "delete_cmd_postfix": "",
     "delete_cmd_prefix": "del ",
     "library": "var_list.py",
     "varRefreshCmd": "print(var_dic_list())"
    },
    "r": {
     "delete_cmd_postfix": ") ",
     "delete_cmd_prefix": "rm(",
     "library": "var_list.r",
     "varRefreshCmd": "cat(var_dic_list()) "
    }
   },
   "types_to_exclude": [
    "module",
    "function",
    "builtin_function_or_method",
    "instance",
    "_Feature"
   ],
   "window_display": false
  }
 },
 "nbformat": 4,
 "nbformat_minor": 2
}
