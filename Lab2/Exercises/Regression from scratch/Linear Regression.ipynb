{
 "cells": [
  {
   "cell_type": "markdown",
   "metadata": {},
   "source": [
    "# Linear Regression"
   ]
  },
  {
   "cell_type": "markdown",
   "metadata": {},
   "source": [
    "## Import Libraries"
   ]
  },
  {
   "cell_type": "code",
   "execution_count": null,
   "metadata": {
    "ExecuteTime": {
     "end_time": "2019-09-02T14:50:27.015179Z",
     "start_time": "2019-09-02T14:50:22.434040Z"
    }
   },
   "outputs": [],
   "source": [
    "import pandas as pd\n",
    "import numpy as np\n",
    "import matplotlib.pyplot as plt\n",
    "import seaborn as sns\n",
    "%matplotlib inline"
   ]
  },
  {
   "cell_type": "markdown",
   "metadata": {},
   "source": [
    "## Read Data"
   ]
  },
  {
   "cell_type": "code",
   "execution_count": null,
   "metadata": {
    "ExecuteTime": {
     "end_time": "2019-09-02T14:50:27.073127Z",
     "start_time": "2019-09-02T14:50:27.017172Z"
    }
   },
   "outputs": [],
   "source": [
    "insurance = None"
   ]
  },
  {
   "cell_type": "code",
   "execution_count": null,
   "metadata": {
    "ExecuteTime": {
     "end_time": "2019-09-02T14:50:27.087043Z",
     "start_time": "2019-09-02T14:50:27.075098Z"
    }
   },
   "outputs": [],
   "source": [
    "insurance.head()"
   ]
  },
  {
   "cell_type": "code",
   "execution_count": null,
   "metadata": {
    "ExecuteTime": {
     "end_time": "2019-09-02T14:50:27.108026Z",
     "start_time": "2019-09-02T14:50:27.088040Z"
    }
   },
   "outputs": [],
   "source": [
    "insurance.describe()"
   ]
  },
  {
   "cell_type": "code",
   "execution_count": null,
   "metadata": {
    "ExecuteTime": {
     "end_time": "2019-09-02T14:50:27.120987Z",
     "start_time": "2019-09-02T14:50:27.108982Z"
    }
   },
   "outputs": [],
   "source": [
    "insurance.info()"
   ]
  },
  {
   "cell_type": "markdown",
   "metadata": {},
   "source": [
    "## Data Visualization"
   ]
  },
  {
   "cell_type": "code",
   "execution_count": null,
   "metadata": {
    "ExecuteTime": {
     "end_time": "2019-09-02T14:50:27.419283Z",
     "start_time": "2019-09-02T14:50:27.122949Z"
    },
    "scrolled": true
   },
   "outputs": [],
   "source": [
    "# Draw a scatterplot for insurance dataset\n"
   ]
  },
  {
   "cell_type": "markdown",
   "metadata": {},
   "source": [
    "This tutorial is broken down into the following parts:\n",
    "\n",
    "- Calculate Mean and Variance.\n",
    "- Calculate Covariance.\n",
    "- Estimate Coefficients.\n",
    "- Split Dataset.\n",
    "- Make Predictions.\n",
    "- Calculate Error.\n",
    "- Predict Insurance.\n",
    "\n",
    "These steps will give you the foundation you need to implement and train simple linear regression models for your own prediction problems."
   ]
  },
  {
   "cell_type": "markdown",
   "metadata": {},
   "source": [
    "## Calculate Mean and Variance "
   ]
  },
  {
   "cell_type": "code",
   "execution_count": null,
   "metadata": {
    "ExecuteTime": {
     "end_time": "2019-09-02T14:50:27.641515Z",
     "start_time": "2019-09-02T14:50:27.422248Z"
    }
   },
   "outputs": [],
   "source": [
    "# Calculate the mean value of a list of numbers\n",
    "def mean(values):\n",
    "    return None\n",
    "\n",
    "# Calculate the variance of a list of numbers\n",
    "def variance(values, mean):\n",
    "    return None\n",
    "\n",
    "# Check your mean and variance functions\n",
    "dataset = [[1, 1], [2, 3], [4, 3], [3, 2], [5, 5]]\n",
    "x = [row[0] for row in dataset]\n",
    "y = [row[1] for row in dataset]\n",
    "x_mean, y_mean = mean(x), mean(y)\n",
    "x_var, y_var = variance(x, x_mean), variance(y, y_mean)\n",
    "print('x stats: mean=%.3f variance=%.3f' % (x_mean, x_var)) # Should give mean=3 variance=10 \n",
    "print('y stats: mean=%.3f variance=%.3f' % (y_mean, y_var)) # Should give mean=2.8 variance=8.8"
   ]
  },
  {
   "cell_type": "markdown",
   "metadata": {},
   "source": [
    "## Calculate Covariance"
   ]
  },
  {
   "cell_type": "code",
   "execution_count": null,
   "metadata": {
    "ExecuteTime": {
     "end_time": "2019-09-02T14:50:27.644476Z",
     "start_time": "2019-09-02T14:50:22.447Z"
    }
   },
   "outputs": [],
   "source": [
    "# Calculate covariance between x and y\n",
    "def covariance(x, x_mean, y, y_mean):\n",
    "    return None\n",
    "\n",
    "\n",
    "# Check your covariance function\n",
    "dataset = [[1, 1], [2, 3], [4, 3], [3, 2], [5, 5]]\n",
    "x = [row[0] for row in dataset]\n",
    "y = [row[1] for row in dataset]\n",
    "x_mean, y_mean = mean(x), mean(y)\n",
    "covar = covariance(x, x_mean, y, y_mean)\n",
    "print('Covariance: %.3f' % (covar))  # Should give covariance=8"
   ]
  },
  {
   "cell_type": "markdown",
   "metadata": {},
   "source": [
    "## Estimate Coefficients "
   ]
  },
  {
   "cell_type": "code",
   "execution_count": null,
   "metadata": {
    "ExecuteTime": {
     "end_time": "2019-09-02T14:50:27.646465Z",
     "start_time": "2019-09-02T14:50:22.450Z"
    }
   },
   "outputs": [],
   "source": [
    "# Calculate coefficients\n",
    "def coefficients(dataset):\n",
    "    x = [row[0] for row in dataset]\n",
    "    y = [row[1] for row in dataset]\n",
    "    x_mean, y_mean = None, None\n",
    "    b1 = None\n",
    "    b0 = None\n",
    "    return [b0, b1]\n",
    "\n",
    "\n",
    "# Check your coefficients function\n",
    "dataset = [[1, 1], [2, 3], [4, 3], [3, 2], [5, 5]]\n",
    "b0, b1 = coefficients(dataset)\n",
    "print('Coefficients: b0=%.3f, b1=%.3f' %(b0, b1))  # Should give b0=0.4 and b1=0.8"
   ]
  },
  {
   "cell_type": "markdown",
   "metadata": {},
   "source": [
    "## Split Dataset"
   ]
  },
  {
   "cell_type": "code",
   "execution_count": null,
   "metadata": {
    "ExecuteTime": {
     "end_time": "2019-09-02T14:50:27.647488Z",
     "start_time": "2019-09-02T14:50:22.452Z"
    }
   },
   "outputs": [],
   "source": [
    "# Split a dataset into a train and test set (without sci-kit learn)\n",
    "def train_test_split(dataset, split):\n",
    "    train_data = None\n",
    "    test_data = None\n",
    "    return [train_data,test_data]"
   ]
  },
  {
   "cell_type": "markdown",
   "metadata": {},
   "source": [
    "## Make Predictions"
   ]
  },
  {
   "cell_type": "code",
   "execution_count": null,
   "metadata": {
    "ExecuteTime": {
     "end_time": "2019-09-02T14:50:27.648498Z",
     "start_time": "2019-09-02T14:50:22.454Z"
    }
   },
   "outputs": [],
   "source": [
    "# Use simple linear regression to return predictions on test set.\n",
    "def simple_linear_regression(train, test):\n",
    "    b0, b1 = None\n",
    "    predicted = None\n",
    "    return predicted"
   ]
  },
  {
   "cell_type": "markdown",
   "metadata": {},
   "source": [
    "## Calculate Error"
   ]
  },
  {
   "cell_type": "code",
   "execution_count": null,
   "metadata": {
    "ExecuteTime": {
     "end_time": "2019-09-02T14:50:27.649482Z",
     "start_time": "2019-09-02T14:50:22.456Z"
    }
   },
   "outputs": [],
   "source": [
    "# Calculate root mean squared error\n",
    "def rmse_metric(actual, predicted):\n",
    "    return None"
   ]
  },
  {
   "cell_type": "markdown",
   "metadata": {},
   "source": [
    "## Predict Insurance"
   ]
  },
  {
   "cell_type": "code",
   "execution_count": null,
   "metadata": {
    "ExecuteTime": {
     "end_time": "2019-09-02T14:50:27.650453Z",
     "start_time": "2019-09-02T14:50:22.458Z"
    }
   },
   "outputs": [],
   "source": [
    "# Evaluate an algorithm using a train/test split\n",
    "def evaluate_algorithm(dataset, algorithm, split, error_metric, *args):\n",
    "    train, test = None\n",
    "    predicted = None\n",
    "    error = None\n",
    "    return error"
   ]
  },
  {
   "cell_type": "code",
   "execution_count": null,
   "metadata": {
    "ExecuteTime": {
     "end_time": "2019-09-02T14:50:27.650453Z",
     "start_time": "2019-09-02T14:50:22.459Z"
    }
   },
   "outputs": [],
   "source": [
    "# Find rmse for Insurance dataset\n",
    "split = 0.7\n",
    "rmse = None\n",
    "print('RMSE: %.3f' % (rmse))"
   ]
  },
  {
   "cell_type": "code",
   "execution_count": null,
   "metadata": {},
   "outputs": [],
   "source": []
  }
 ],
 "metadata": {
  "kernelspec": {
   "display_name": "Python 3",
   "language": "python",
   "name": "python3"
  },
  "language_info": {
   "codemirror_mode": {
    "name": "ipython",
    "version": 3
   },
   "file_extension": ".py",
   "mimetype": "text/x-python",
   "name": "python",
   "nbconvert_exporter": "python",
   "pygments_lexer": "ipython3",
   "version": "3.7.3"
  },
  "toc": {
   "base_numbering": 1,
   "nav_menu": {},
   "number_sections": true,
   "sideBar": true,
   "skip_h1_title": false,
   "title_cell": "Table of Contents",
   "title_sidebar": "Contents",
   "toc_cell": false,
   "toc_position": {},
   "toc_section_display": true,
   "toc_window_display": false
  },
  "varInspector": {
   "cols": {
    "lenName": 16,
    "lenType": 16,
    "lenVar": 40
   },
   "kernels_config": {
    "python": {
     "delete_cmd_postfix": "",
     "delete_cmd_prefix": "del ",
     "library": "var_list.py",
     "varRefreshCmd": "print(var_dic_list())"
    },
    "r": {
     "delete_cmd_postfix": ") ",
     "delete_cmd_prefix": "rm(",
     "library": "var_list.r",
     "varRefreshCmd": "cat(var_dic_list()) "
    }
   },
   "types_to_exclude": [
    "module",
    "function",
    "builtin_function_or_method",
    "instance",
    "_Feature"
   ],
   "window_display": false
  }
 },
 "nbformat": 4,
 "nbformat_minor": 2
}
