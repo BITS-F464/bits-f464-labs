{
 "cells": [
  {
   "cell_type": "markdown",
   "metadata": {},
   "source": [
    "# LAB 1C - Pandas\n",
    "\n",
    "## Why pandas?\n",
    "\n",
    "NumPy is great. But it lacks a few things that are conducive to doing statisitcal analysis. By building on top of NumPy, pandas provides\n",
    "\n",
    "- labeled arrays\n",
    "- heterogenous data types within a table\n",
    "- \"better\" missing data handling\n",
    "- convenient methods (`groupby`, `rolling`, `resample`)\n",
    "- more data types (Categorical, Datetime)\n",
    "\n",
    "## Data Structures\n",
    "\n",
    "This is the typical starting point for any intro to pandas.\n",
    "We'll follow suit.\n",
    "\n",
    "### The DataFrame\n",
    "\n",
    "Here we have the workhorse data structure for pandas.\n",
    "It's an in-memory table holding your data, and provides a few conviniences over lists of lists or NumPy arrays."
   ]
  },
  {
   "cell_type": "code",
   "execution_count": 2,
   "metadata": {
    "ExecuteTime": {
     "end_time": "2019-08-13T04:21:54.906692Z",
     "start_time": "2019-08-13T04:21:54.318945Z"
    }
   },
   "outputs": [],
   "source": [
    "import numpy as np\n",
    "import pandas as pd"
   ]
  },
  {
   "cell_type": "code",
   "execution_count": 32,
   "metadata": {
    "ExecuteTime": {
     "end_time": "2019-08-13T04:21:54.940899Z",
     "start_time": "2019-08-13T04:21:54.910148Z"
    }
   },
   "outputs": [
    {
     "data": {
      "text/html": [
       "<div>\n",
       "<style scoped>\n",
       "    .dataframe tbody tr th:only-of-type {\n",
       "        vertical-align: middle;\n",
       "    }\n",
       "\n",
       "    .dataframe tbody tr th {\n",
       "        vertical-align: top;\n",
       "    }\n",
       "\n",
       "    .dataframe thead th {\n",
       "        text-align: right;\n",
       "    }\n",
       "</style>\n",
       "<table border=\"1\" class=\"dataframe\">\n",
       "  <thead>\n",
       "    <tr style=\"text-align: right;\">\n",
       "      <th></th>\n",
       "      <th>A</th>\n",
       "      <th>B</th>\n",
       "      <th>C</th>\n",
       "    </tr>\n",
       "  </thead>\n",
       "  <tbody>\n",
       "    <tr>\n",
       "      <th>a</th>\n",
       "      <td>1</td>\n",
       "      <td>True</td>\n",
       "      <td>0.496714</td>\n",
       "    </tr>\n",
       "    <tr>\n",
       "      <th>b</th>\n",
       "      <td>2</td>\n",
       "      <td>True</td>\n",
       "      <td>-0.138264</td>\n",
       "    </tr>\n",
       "    <tr>\n",
       "      <th>c</th>\n",
       "      <td>3</td>\n",
       "      <td>False</td>\n",
       "      <td>0.647689</td>\n",
       "    </tr>\n",
       "  </tbody>\n",
       "</table>\n",
       "</div>"
      ],
      "text/plain": [
       "   A      B         C\n",
       "a  1   True  0.496714\n",
       "b  2   True -0.138264\n",
       "c  3  False  0.647689"
      ]
     },
     "execution_count": 32,
     "metadata": {},
     "output_type": "execute_result"
    }
   ],
   "source": [
    "# Many ways to construct a DataFrame\n",
    "# We pass a dict of {column name: column values}\n",
    "np.random.seed(42)\n",
    "df = pd.DataFrame({'A': [1, 2, 3], \n",
    "                   'B': [True, True, False],\n",
    "                   'C': np.random.randn(3)},\n",
    "                  index=['a', 'b', 'c'])  # also this weird index thing\n",
    "df"
   ]
  },
  {
   "cell_type": "markdown",
   "metadata": {},
   "source": [
    "Notice that we can store a column of intergers, a column of booleans, and a column of floats in the same `DataFrame`."
   ]
  },
  {
   "cell_type": "markdown",
   "metadata": {},
   "source": [
    "### Indexing\n",
    "\n",
    "Our first improvement over numpy arrays is labeled indexing. We can select subsets by column, row, or both. Column selection uses the regular python `__getitem__` machinery. Pass in a single column label `'A'` or a list of labels `['A', 'C']` to select subsets of the original `DataFrame`."
   ]
  },
  {
   "cell_type": "code",
   "execution_count": 3,
   "metadata": {
    "ExecuteTime": {
     "end_time": "2019-08-13T04:21:54.948835Z",
     "start_time": "2019-08-13T04:21:54.943380Z"
    }
   },
   "outputs": [
    {
     "data": {
      "text/plain": [
       "a    1\n",
       "b    2\n",
       "c    3\n",
       "Name: A, dtype: int64"
      ]
     },
     "execution_count": 3,
     "metadata": {},
     "output_type": "execute_result"
    }
   ],
   "source": [
    "# Single column, reduces to a Series\n",
    "df['A']"
   ]
  },
  {
   "cell_type": "code",
   "execution_count": 4,
   "metadata": {
    "ExecuteTime": {
     "end_time": "2019-08-13T04:21:54.964224Z",
     "start_time": "2019-08-13T04:21:54.951316Z"
    }
   },
   "outputs": [
    {
     "data": {
      "text/html": [
       "<div>\n",
       "<style scoped>\n",
       "    .dataframe tbody tr th:only-of-type {\n",
       "        vertical-align: middle;\n",
       "    }\n",
       "\n",
       "    .dataframe tbody tr th {\n",
       "        vertical-align: top;\n",
       "    }\n",
       "\n",
       "    .dataframe thead th {\n",
       "        text-align: right;\n",
       "    }\n",
       "</style>\n",
       "<table border=\"1\" class=\"dataframe\">\n",
       "  <thead>\n",
       "    <tr style=\"text-align: right;\">\n",
       "      <th></th>\n",
       "      <th>A</th>\n",
       "      <th>C</th>\n",
       "    </tr>\n",
       "  </thead>\n",
       "  <tbody>\n",
       "    <tr>\n",
       "      <th>a</th>\n",
       "      <td>1</td>\n",
       "      <td>0.496714</td>\n",
       "    </tr>\n",
       "    <tr>\n",
       "      <th>b</th>\n",
       "      <td>2</td>\n",
       "      <td>-0.138264</td>\n",
       "    </tr>\n",
       "    <tr>\n",
       "      <th>c</th>\n",
       "      <td>3</td>\n",
       "      <td>0.647689</td>\n",
       "    </tr>\n",
       "  </tbody>\n",
       "</table>\n",
       "</div>"
      ],
      "text/plain": [
       "   A         C\n",
       "a  1  0.496714\n",
       "b  2 -0.138264\n",
       "c  3  0.647689"
      ]
     },
     "execution_count": 4,
     "metadata": {},
     "output_type": "execute_result"
    }
   ],
   "source": [
    "cols = ['A', 'C']\n",
    "df[cols]"
   ]
  },
  {
   "cell_type": "markdown",
   "metadata": {},
   "source": [
    "For row-wise selection, use the special `.loc` accessor."
   ]
  },
  {
   "cell_type": "code",
   "execution_count": 5,
   "metadata": {
    "ExecuteTime": {
     "end_time": "2019-08-13T04:21:54.992483Z",
     "start_time": "2019-08-13T04:21:54.967189Z"
    }
   },
   "outputs": [
    {
     "data": {
      "text/html": [
       "<div>\n",
       "<style scoped>\n",
       "    .dataframe tbody tr th:only-of-type {\n",
       "        vertical-align: middle;\n",
       "    }\n",
       "\n",
       "    .dataframe tbody tr th {\n",
       "        vertical-align: top;\n",
       "    }\n",
       "\n",
       "    .dataframe thead th {\n",
       "        text-align: right;\n",
       "    }\n",
       "</style>\n",
       "<table border=\"1\" class=\"dataframe\">\n",
       "  <thead>\n",
       "    <tr style=\"text-align: right;\">\n",
       "      <th></th>\n",
       "      <th>A</th>\n",
       "      <th>B</th>\n",
       "      <th>C</th>\n",
       "    </tr>\n",
       "  </thead>\n",
       "  <tbody>\n",
       "    <tr>\n",
       "      <th>a</th>\n",
       "      <td>1</td>\n",
       "      <td>True</td>\n",
       "      <td>0.496714</td>\n",
       "    </tr>\n",
       "    <tr>\n",
       "      <th>b</th>\n",
       "      <td>2</td>\n",
       "      <td>True</td>\n",
       "      <td>-0.138264</td>\n",
       "    </tr>\n",
       "  </tbody>\n",
       "</table>\n",
       "</div>"
      ],
      "text/plain": [
       "   A     B         C\n",
       "a  1  True  0.496714\n",
       "b  2  True -0.138264"
      ]
     },
     "execution_count": 5,
     "metadata": {},
     "output_type": "execute_result"
    }
   ],
   "source": [
    "df.loc[['a', 'b']]"
   ]
  },
  {
   "cell_type": "markdown",
   "metadata": {},
   "source": [
    "You can use ranges to select rows or columns."
   ]
  },
  {
   "cell_type": "code",
   "execution_count": 6,
   "metadata": {
    "ExecuteTime": {
     "end_time": "2019-08-13T04:21:55.013319Z",
     "start_time": "2019-08-13T04:21:54.994964Z"
    }
   },
   "outputs": [
    {
     "data": {
      "text/html": [
       "<div>\n",
       "<style scoped>\n",
       "    .dataframe tbody tr th:only-of-type {\n",
       "        vertical-align: middle;\n",
       "    }\n",
       "\n",
       "    .dataframe tbody tr th {\n",
       "        vertical-align: top;\n",
       "    }\n",
       "\n",
       "    .dataframe thead th {\n",
       "        text-align: right;\n",
       "    }\n",
       "</style>\n",
       "<table border=\"1\" class=\"dataframe\">\n",
       "  <thead>\n",
       "    <tr style=\"text-align: right;\">\n",
       "      <th></th>\n",
       "      <th>A</th>\n",
       "      <th>B</th>\n",
       "      <th>C</th>\n",
       "    </tr>\n",
       "  </thead>\n",
       "  <tbody>\n",
       "    <tr>\n",
       "      <th>a</th>\n",
       "      <td>1</td>\n",
       "      <td>True</td>\n",
       "      <td>0.496714</td>\n",
       "    </tr>\n",
       "    <tr>\n",
       "      <th>b</th>\n",
       "      <td>2</td>\n",
       "      <td>True</td>\n",
       "      <td>-0.138264</td>\n",
       "    </tr>\n",
       "  </tbody>\n",
       "</table>\n",
       "</div>"
      ],
      "text/plain": [
       "   A     B         C\n",
       "a  1  True  0.496714\n",
       "b  2  True -0.138264"
      ]
     },
     "execution_count": 6,
     "metadata": {},
     "output_type": "execute_result"
    }
   ],
   "source": [
    "df.loc['a':'b']"
   ]
  },
  {
   "cell_type": "markdown",
   "metadata": {},
   "source": [
    "Notice that the slice is *inclusive* on both sides,  unlike your typical slicing of a list. Sometimes, you'd rather slice by *position* instead of label. `.iloc` has you covered:"
   ]
  },
  {
   "cell_type": "code",
   "execution_count": 16,
   "metadata": {
    "ExecuteTime": {
     "end_time": "2019-08-13T04:21:55.028691Z",
     "start_time": "2019-08-13T04:21:55.014804Z"
    }
   },
   "outputs": [
    {
     "data": {
      "text/html": [
       "<div>\n",
       "<style scoped>\n",
       "    .dataframe tbody tr th:only-of-type {\n",
       "        vertical-align: middle;\n",
       "    }\n",
       "\n",
       "    .dataframe tbody tr th {\n",
       "        vertical-align: top;\n",
       "    }\n",
       "\n",
       "    .dataframe thead th {\n",
       "        text-align: right;\n",
       "    }\n",
       "</style>\n",
       "<table border=\"1\" class=\"dataframe\">\n",
       "  <thead>\n",
       "    <tr style=\"text-align: right;\">\n",
       "      <th></th>\n",
       "      <th>A</th>\n",
       "      <th>B</th>\n",
       "      <th>C</th>\n",
       "    </tr>\n",
       "  </thead>\n",
       "  <tbody>\n",
       "    <tr>\n",
       "      <th>a</th>\n",
       "      <td>1</td>\n",
       "      <td>True</td>\n",
       "      <td>0.496714</td>\n",
       "    </tr>\n",
       "    <tr>\n",
       "      <th>c</th>\n",
       "      <td>3</td>\n",
       "      <td>False</td>\n",
       "      <td>0.647689</td>\n",
       "    </tr>\n",
       "  </tbody>\n",
       "</table>\n",
       "</div>"
      ],
      "text/plain": [
       "   A      B         C\n",
       "a  1   True  0.496714\n",
       "c  3  False  0.647689"
      ]
     },
     "execution_count": 16,
     "metadata": {},
     "output_type": "execute_result"
    }
   ],
   "source": [
    "df.iloc[[0, 2]]"
   ]
  },
  {
   "cell_type": "code",
   "execution_count": 21,
   "metadata": {
    "ExecuteTime": {
     "end_time": "2019-08-13T04:21:55.043076Z",
     "start_time": "2019-08-13T04:21:55.030676Z"
    }
   },
   "outputs": [
    {
     "data": {
      "text/html": [
       "<div>\n",
       "<style scoped>\n",
       "    .dataframe tbody tr th:only-of-type {\n",
       "        vertical-align: middle;\n",
       "    }\n",
       "\n",
       "    .dataframe tbody tr th {\n",
       "        vertical-align: top;\n",
       "    }\n",
       "\n",
       "    .dataframe thead th {\n",
       "        text-align: right;\n",
       "    }\n",
       "</style>\n",
       "<table border=\"1\" class=\"dataframe\">\n",
       "  <thead>\n",
       "    <tr style=\"text-align: right;\">\n",
       "      <th></th>\n",
       "      <th>A</th>\n",
       "      <th>B</th>\n",
       "      <th>C</th>\n",
       "    </tr>\n",
       "  </thead>\n",
       "  <tbody>\n",
       "    <tr>\n",
       "      <th>a</th>\n",
       "      <td>1</td>\n",
       "      <td>True</td>\n",
       "      <td>0.496714</td>\n",
       "    </tr>\n",
       "    <tr>\n",
       "      <th>b</th>\n",
       "      <td>2</td>\n",
       "      <td>True</td>\n",
       "      <td>-0.138264</td>\n",
       "    </tr>\n",
       "  </tbody>\n",
       "</table>\n",
       "</div>"
      ],
      "text/plain": [
       "   A     B         C\n",
       "a  1  True  0.496714\n",
       "b  2  True -0.138264"
      ]
     },
     "execution_count": 21,
     "metadata": {},
     "output_type": "execute_result"
    }
   ],
   "source": [
    "df.iloc[:2]"
   ]
  },
  {
   "cell_type": "markdown",
   "metadata": {},
   "source": [
    "This follows the usual python slicing rules: closed on the left, open on the right.\n",
    "\n",
    "As I mentioned, you can slice both rows and columns. Use `.loc` for label or `.iloc` for position indexing."
   ]
  },
  {
   "cell_type": "code",
   "execution_count": 19,
   "metadata": {
    "ExecuteTime": {
     "end_time": "2019-08-13T04:21:55.053988Z",
     "start_time": "2019-08-13T04:21:55.045556Z"
    }
   },
   "outputs": [
    {
     "data": {
      "text/plain": [
       "(True, True)"
      ]
     },
     "execution_count": 19,
     "metadata": {},
     "output_type": "execute_result"
    }
   ],
   "source": [
    "df.loc['a', 'B'], df.iloc[0, 1]"
   ]
  },
  {
   "cell_type": "markdown",
   "metadata": {},
   "source": [
    "Pandas, like NumPy, will reduce dimensions when possible. Select a single column and you get back `Series` (see below). Select a single row and single column, you get a scalar.\n",
    "\n",
    "You can get pretty fancy:"
   ]
  },
  {
   "cell_type": "code",
   "execution_count": 22,
   "metadata": {
    "ExecuteTime": {
     "end_time": "2019-08-13T04:21:55.068890Z",
     "start_time": "2019-08-13T04:21:55.056468Z"
    }
   },
   "outputs": [
    {
     "data": {
      "text/html": [
       "<div>\n",
       "<style scoped>\n",
       "    .dataframe tbody tr th:only-of-type {\n",
       "        vertical-align: middle;\n",
       "    }\n",
       "\n",
       "    .dataframe tbody tr th {\n",
       "        vertical-align: top;\n",
       "    }\n",
       "\n",
       "    .dataframe thead th {\n",
       "        text-align: right;\n",
       "    }\n",
       "</style>\n",
       "<table border=\"1\" class=\"dataframe\">\n",
       "  <thead>\n",
       "    <tr style=\"text-align: right;\">\n",
       "      <th></th>\n",
       "      <th>A</th>\n",
       "      <th>C</th>\n",
       "    </tr>\n",
       "  </thead>\n",
       "  <tbody>\n",
       "    <tr>\n",
       "      <th>a</th>\n",
       "      <td>1</td>\n",
       "      <td>0.496714</td>\n",
       "    </tr>\n",
       "    <tr>\n",
       "      <th>b</th>\n",
       "      <td>2</td>\n",
       "      <td>-0.138264</td>\n",
       "    </tr>\n",
       "  </tbody>\n",
       "</table>\n",
       "</div>"
      ],
      "text/plain": [
       "   A         C\n",
       "a  1  0.496714\n",
       "b  2 -0.138264"
      ]
     },
     "execution_count": 22,
     "metadata": {},
     "output_type": "execute_result"
    }
   ],
   "source": [
    "df.loc['a':'b', ['A', 'C']]"
   ]
  },
  {
   "cell_type": "markdown",
   "metadata": {},
   "source": [
    "#### Summary\n",
    "\n",
    "- Use `[]` for selecting columns\n",
    "- Use `.loc[row_lables, column_labels]` for label-based indexing\n",
    "- Use `.iloc[row_positions, column_positions]` for positional index\n",
    "\n",
    "I've left out boolean and hierarchical indexing, which we'll see later."
   ]
  },
  {
   "cell_type": "markdown",
   "metadata": {},
   "source": [
    "## Series\n",
    "\n",
    "You've already seen some `Series` up above. It's the 1-dimensional analog of the DataFrame. Each column in a `DataFrame` is in some sense a `Series`. You can select a `Series` from a DataFrame in a few ways:"
   ]
  },
  {
   "cell_type": "code",
   "execution_count": 11,
   "metadata": {
    "ExecuteTime": {
     "end_time": "2019-08-13T04:21:55.077824Z",
     "start_time": "2019-08-13T04:21:55.070851Z"
    }
   },
   "outputs": [
    {
     "data": {
      "text/plain": [
       "a    1\n",
       "b    2\n",
       "c    3\n",
       "Name: A, dtype: int64"
      ]
     },
     "execution_count": 11,
     "metadata": {},
     "output_type": "execute_result"
    }
   ],
   "source": [
    "# __getitem__ like before\n",
    "df['A']"
   ]
  },
  {
   "cell_type": "code",
   "execution_count": 12,
   "metadata": {
    "ExecuteTime": {
     "end_time": "2019-08-13T04:21:55.088215Z",
     "start_time": "2019-08-13T04:21:55.079283Z"
    }
   },
   "outputs": [
    {
     "data": {
      "text/plain": [
       "a    1\n",
       "b    2\n",
       "c    3\n",
       "Name: A, dtype: int64"
      ]
     },
     "execution_count": 12,
     "metadata": {},
     "output_type": "execute_result"
    }
   ],
   "source": [
    "# .loc, like before\n",
    "df.loc[:, 'A']"
   ]
  },
  {
   "cell_type": "code",
   "execution_count": 25,
   "metadata": {
    "ExecuteTime": {
     "end_time": "2019-08-13T04:21:55.098628Z",
     "start_time": "2019-08-13T04:21:55.090692Z"
    }
   },
   "outputs": [
    {
     "data": {
      "text/plain": [
       "a    1\n",
       "b    2\n",
       "c    3\n",
       "Name: A, dtype: int64"
      ]
     },
     "execution_count": 25,
     "metadata": {},
     "output_type": "execute_result"
    }
   ],
   "source": [
    "# using `.` attribute lookup\n",
    "df.A"
   ]
  },
  {
   "cell_type": "code",
   "execution_count": 26,
   "metadata": {
    "ExecuteTime": {
     "end_time": "2019-08-13T04:21:55.114005Z",
     "start_time": "2019-08-13T04:21:55.102101Z"
    }
   },
   "outputs": [],
   "source": [
    "df['mean'] = ['a', 'b', 'c']"
   ]
  },
  {
   "cell_type": "code",
   "execution_count": 31,
   "metadata": {
    "ExecuteTime": {
     "end_time": "2019-08-13T04:21:55.123925Z",
     "start_time": "2019-08-13T04:21:55.117476Z"
    }
   },
   "outputs": [
    {
     "data": {
      "text/plain": [
       "a    a\n",
       "b    b\n",
       "c    c\n",
       "Name: mean, dtype: object"
      ]
     },
     "execution_count": 31,
     "metadata": {},
     "output_type": "execute_result"
    }
   ],
   "source": [
    "df['mean']"
   ]
  },
  {
   "cell_type": "code",
   "execution_count": 39,
   "metadata": {
    "ExecuteTime": {
     "end_time": "2019-08-13T04:21:55.134837Z",
     "start_time": "2019-08-13T04:21:55.125908Z"
    }
   },
   "outputs": [
    {
     "data": {
      "text/plain": [
       "<bound method DataFrame.mean of    A      B         C\n",
       "a  1   True  0.496714\n",
       "b  2   True -0.138264\n",
       "c  3  False  0.647689>"
      ]
     },
     "execution_count": 39,
     "metadata": {},
     "output_type": "execute_result"
    }
   ],
   "source": [
    "df.mean"
   ]
  },
  {
   "cell_type": "markdown",
   "metadata": {},
   "source": [
    "You'll have to be careful with the last one. It won't work if you're column name isn't a valid python identifier (say it has a space) or if it conflicts with one of the (many) methods on `DataFrame`. The `.` accessor is extremely convient for interactive use though.\n",
    "\n",
    "You should never *assign* a column with `.` e.g. don't do\n",
    "\n",
    "```python\n",
    "# bad\n",
    "df.A = [1, 2, 3]\n",
    "```\n",
    "\n",
    "It's unclear whether your attaching the list `[1, 2, 3]` as an attribute of `df`, or whether you want it as a column. It's better to just say\n",
    "\n",
    "```python\n",
    "df['A'] = [1, 2, 3]\n",
    "# or\n",
    "df.loc[:, 'A'] = [1, 2, 3]\n",
    "```\n",
    "\n",
    "`Series` share many of the same methods as `DataFrame`s."
   ]
  },
  {
   "cell_type": "markdown",
   "metadata": {},
   "source": [
    "## Index\n",
    "\n",
    "`Index`es are something of a peculiarity to pandas.\n",
    "First off, they are not the kind of indexes you'll find in SQL, which are used to help the engine speed up certain queries.\n",
    "In pandas, `Index`es are about lables. This helps with selection (like we did above) and automatic alignment when performing operations between two `DataFrame`s or `Series`.\n",
    "\n",
    "R does have row labels, but they're nowhere near as powerful (or complicated) as in pandas. You can access the index of a `DataFrame` or `Series` with the `.index` attribute."
   ]
  },
  {
   "cell_type": "code",
   "execution_count": 40,
   "metadata": {
    "ExecuteTime": {
     "end_time": "2019-08-13T04:21:55.146739Z",
     "start_time": "2019-08-13T04:21:55.136324Z"
    }
   },
   "outputs": [
    {
     "data": {
      "text/plain": [
       "Index(['a', 'b', 'c'], dtype='object')"
      ]
     },
     "execution_count": 40,
     "metadata": {},
     "output_type": "execute_result"
    }
   ],
   "source": [
    "df.index"
   ]
  },
  {
   "cell_type": "code",
   "execution_count": 41,
   "metadata": {
    "ExecuteTime": {
     "end_time": "2019-08-13T04:21:55.157156Z",
     "start_time": "2019-08-13T04:21:55.149716Z"
    }
   },
   "outputs": [
    {
     "data": {
      "text/plain": [
       "Index(['A', 'B', 'C'], dtype='object')"
      ]
     },
     "execution_count": 41,
     "metadata": {},
     "output_type": "execute_result"
    }
   ],
   "source": [
    "df.columns"
   ]
  },
  {
   "cell_type": "markdown",
   "metadata": {},
   "source": [
    "## Operations"
   ]
  },
  {
   "cell_type": "code",
   "execution_count": 57,
   "metadata": {
    "ExecuteTime": {
     "end_time": "2019-08-13T04:21:55.172535Z",
     "start_time": "2019-08-13T04:21:55.158645Z"
    }
   },
   "outputs": [
    {
     "data": {
      "text/html": [
       "<div>\n",
       "<style scoped>\n",
       "    .dataframe tbody tr th:only-of-type {\n",
       "        vertical-align: middle;\n",
       "    }\n",
       "\n",
       "    .dataframe tbody tr th {\n",
       "        vertical-align: top;\n",
       "    }\n",
       "\n",
       "    .dataframe thead th {\n",
       "        text-align: right;\n",
       "    }\n",
       "</style>\n",
       "<table border=\"1\" class=\"dataframe\">\n",
       "  <thead>\n",
       "    <tr style=\"text-align: right;\">\n",
       "      <th></th>\n",
       "      <th>0</th>\n",
       "      <th>1</th>\n",
       "      <th>2</th>\n",
       "    </tr>\n",
       "  </thead>\n",
       "  <tbody>\n",
       "    <tr>\n",
       "      <th>0</th>\n",
       "      <td>37.454012</td>\n",
       "      <td>95.071431</td>\n",
       "      <td>73.199394</td>\n",
       "    </tr>\n",
       "    <tr>\n",
       "      <th>1</th>\n",
       "      <td>59.865848</td>\n",
       "      <td>15.601864</td>\n",
       "      <td>15.599452</td>\n",
       "    </tr>\n",
       "    <tr>\n",
       "      <th>2</th>\n",
       "      <td>5.808361</td>\n",
       "      <td>86.617615</td>\n",
       "      <td>60.111501</td>\n",
       "    </tr>\n",
       "  </tbody>\n",
       "</table>\n",
       "</div>"
      ],
      "text/plain": [
       "           0          1          2\n",
       "0  37.454012  95.071431  73.199394\n",
       "1  59.865848  15.601864  15.599452\n",
       "2   5.808361  86.617615  60.111501"
      ]
     },
     "execution_count": 57,
     "metadata": {},
     "output_type": "execute_result"
    }
   ],
   "source": [
    "np.random.seed(42)\n",
    "df = pd.DataFrame(np.random.uniform(0, 100, size=(3, 3)))\n",
    "# df = pd.DataFrame(np.random.randn(3, 3))\n",
    "# df = pd.DataFrame(np.random.random([3, 3]))\n",
    "df"
   ]
  },
  {
   "cell_type": "code",
   "execution_count": 58,
   "metadata": {
    "ExecuteTime": {
     "end_time": "2019-08-13T04:21:55.207252Z",
     "start_time": "2019-08-13T04:21:55.176501Z"
    }
   },
   "outputs": [
    {
     "data": {
      "text/html": [
       "<div>\n",
       "<style scoped>\n",
       "    .dataframe tbody tr th:only-of-type {\n",
       "        vertical-align: middle;\n",
       "    }\n",
       "\n",
       "    .dataframe tbody tr th {\n",
       "        vertical-align: top;\n",
       "    }\n",
       "\n",
       "    .dataframe thead th {\n",
       "        text-align: right;\n",
       "    }\n",
       "</style>\n",
       "<table border=\"1\" class=\"dataframe\">\n",
       "  <thead>\n",
       "    <tr style=\"text-align: right;\">\n",
       "      <th></th>\n",
       "      <th>0</th>\n",
       "      <th>1</th>\n",
       "      <th>2</th>\n",
       "    </tr>\n",
       "  </thead>\n",
       "  <tbody>\n",
       "    <tr>\n",
       "      <th>0</th>\n",
       "      <td>38.454012</td>\n",
       "      <td>96.071431</td>\n",
       "      <td>74.199394</td>\n",
       "    </tr>\n",
       "    <tr>\n",
       "      <th>1</th>\n",
       "      <td>60.865848</td>\n",
       "      <td>16.601864</td>\n",
       "      <td>16.599452</td>\n",
       "    </tr>\n",
       "    <tr>\n",
       "      <th>2</th>\n",
       "      <td>6.808361</td>\n",
       "      <td>87.617615</td>\n",
       "      <td>61.111501</td>\n",
       "    </tr>\n",
       "  </tbody>\n",
       "</table>\n",
       "</div>"
      ],
      "text/plain": [
       "           0          1          2\n",
       "0  38.454012  96.071431  74.199394\n",
       "1  60.865848  16.601864  16.599452\n",
       "2   6.808361  87.617615  61.111501"
      ]
     },
     "execution_count": 58,
     "metadata": {},
     "output_type": "execute_result"
    }
   ],
   "source": [
    "df + 1"
   ]
  },
  {
   "cell_type": "code",
   "execution_count": 59,
   "metadata": {
    "ExecuteTime": {
     "end_time": "2019-08-13T04:21:55.218164Z",
     "start_time": "2019-08-13T04:21:55.208740Z"
    }
   },
   "outputs": [
    {
     "data": {
      "text/html": [
       "<div>\n",
       "<style scoped>\n",
       "    .dataframe tbody tr th:only-of-type {\n",
       "        vertical-align: middle;\n",
       "    }\n",
       "\n",
       "    .dataframe tbody tr th {\n",
       "        vertical-align: top;\n",
       "    }\n",
       "\n",
       "    .dataframe thead th {\n",
       "        text-align: right;\n",
       "    }\n",
       "</style>\n",
       "<table border=\"1\" class=\"dataframe\">\n",
       "  <thead>\n",
       "    <tr style=\"text-align: right;\">\n",
       "      <th></th>\n",
       "      <th>0</th>\n",
       "      <th>1</th>\n",
       "      <th>2</th>\n",
       "    </tr>\n",
       "  </thead>\n",
       "  <tbody>\n",
       "    <tr>\n",
       "      <th>0</th>\n",
       "      <td>1402.803006</td>\n",
       "      <td>9038.576924</td>\n",
       "      <td>5358.151308</td>\n",
       "    </tr>\n",
       "    <tr>\n",
       "      <th>1</th>\n",
       "      <td>3583.919807</td>\n",
       "      <td>243.418162</td>\n",
       "      <td>243.342904</td>\n",
       "    </tr>\n",
       "    <tr>\n",
       "      <th>2</th>\n",
       "      <td>33.737060</td>\n",
       "      <td>7502.611155</td>\n",
       "      <td>3613.392573</td>\n",
       "    </tr>\n",
       "  </tbody>\n",
       "</table>\n",
       "</div>"
      ],
      "text/plain": [
       "             0            1            2\n",
       "0  1402.803006  9038.576924  5358.151308\n",
       "1  3583.919807   243.418162   243.342904\n",
       "2    33.737060  7502.611155  3613.392573"
      ]
     },
     "execution_count": 59,
     "metadata": {},
     "output_type": "execute_result"
    }
   ],
   "source": [
    "df ** 2"
   ]
  },
  {
   "cell_type": "code",
   "execution_count": 60,
   "metadata": {
    "ExecuteTime": {
     "end_time": "2019-08-13T04:21:55.230123Z",
     "start_time": "2019-08-13T04:21:55.219653Z"
    }
   },
   "outputs": [
    {
     "data": {
      "text/html": [
       "<div>\n",
       "<style scoped>\n",
       "    .dataframe tbody tr th:only-of-type {\n",
       "        vertical-align: middle;\n",
       "    }\n",
       "\n",
       "    .dataframe tbody tr th {\n",
       "        vertical-align: top;\n",
       "    }\n",
       "\n",
       "    .dataframe thead th {\n",
       "        text-align: right;\n",
       "    }\n",
       "</style>\n",
       "<table border=\"1\" class=\"dataframe\">\n",
       "  <thead>\n",
       "    <tr style=\"text-align: right;\">\n",
       "      <th></th>\n",
       "      <th>0</th>\n",
       "      <th>1</th>\n",
       "      <th>2</th>\n",
       "    </tr>\n",
       "  </thead>\n",
       "  <tbody>\n",
       "    <tr>\n",
       "      <th>0</th>\n",
       "      <td>3.623114</td>\n",
       "      <td>4.554629</td>\n",
       "      <td>4.293187</td>\n",
       "    </tr>\n",
       "    <tr>\n",
       "      <th>1</th>\n",
       "      <td>4.092106</td>\n",
       "      <td>2.747390</td>\n",
       "      <td>2.747236</td>\n",
       "    </tr>\n",
       "    <tr>\n",
       "      <th>2</th>\n",
       "      <td>1.759298</td>\n",
       "      <td>4.461503</td>\n",
       "      <td>4.096201</td>\n",
       "    </tr>\n",
       "  </tbody>\n",
       "</table>\n",
       "</div>"
      ],
      "text/plain": [
       "          0         1         2\n",
       "0  3.623114  4.554629  4.293187\n",
       "1  4.092106  2.747390  2.747236\n",
       "2  1.759298  4.461503  4.096201"
      ]
     },
     "execution_count": 60,
     "metadata": {},
     "output_type": "execute_result"
    }
   ],
   "source": [
    "np.log(df)"
   ]
  },
  {
   "cell_type": "markdown",
   "metadata": {},
   "source": [
    "DataFrames and Series have a bunch of useful aggregation methods, `.mean`, `.max`, `.std`, etc."
   ]
  },
  {
   "cell_type": "code",
   "execution_count": 61,
   "metadata": {
    "ExecuteTime": {
     "end_time": "2019-08-13T04:21:55.238499Z",
     "start_time": "2019-08-13T04:21:55.231556Z"
    }
   },
   "outputs": [
    {
     "data": {
      "text/plain": [
       "0    34.376074\n",
       "1    65.763636\n",
       "2    49.636782\n",
       "dtype: float64"
      ]
     },
     "execution_count": 61,
     "metadata": {},
     "output_type": "execute_result"
    }
   ],
   "source": [
    "df.mean()"
   ]
  },
  {
   "cell_type": "markdown",
   "metadata": {},
   "source": [
    "## Loading Data"
   ]
  },
  {
   "cell_type": "code",
   "execution_count": 66,
   "metadata": {
    "ExecuteTime": {
     "end_time": "2019-08-13T04:21:55.289739Z",
     "start_time": "2019-08-13T04:21:55.240058Z"
    }
   },
   "outputs": [
    {
     "data": {
      "text/html": [
       "<div>\n",
       "<style scoped>\n",
       "    .dataframe tbody tr th:only-of-type {\n",
       "        vertical-align: middle;\n",
       "    }\n",
       "\n",
       "    .dataframe tbody tr th {\n",
       "        vertical-align: top;\n",
       "    }\n",
       "\n",
       "    .dataframe thead th {\n",
       "        text-align: right;\n",
       "    }\n",
       "</style>\n",
       "<table border=\"1\" class=\"dataframe\">\n",
       "  <thead>\n",
       "    <tr style=\"text-align: right;\">\n",
       "      <th></th>\n",
       "      <th>abv</th>\n",
       "      <th>beer_id</th>\n",
       "      <th>brewer_id</th>\n",
       "      <th>beer_name</th>\n",
       "      <th>beer_style</th>\n",
       "      <th>review_appearance</th>\n",
       "      <th>review_aroma</th>\n",
       "      <th>review_overall</th>\n",
       "      <th>review_palate</th>\n",
       "      <th>profile_name</th>\n",
       "      <th>review_taste</th>\n",
       "      <th>text</th>\n",
       "      <th>time</th>\n",
       "    </tr>\n",
       "  </thead>\n",
       "  <tbody>\n",
       "    <tr>\n",
       "      <th>0</th>\n",
       "      <td>7.0</td>\n",
       "      <td>2511</td>\n",
       "      <td>287</td>\n",
       "      <td>Bell's Cherry Stout</td>\n",
       "      <td>American Stout</td>\n",
       "      <td>4.5</td>\n",
       "      <td>4.0</td>\n",
       "      <td>4.5</td>\n",
       "      <td>4.0</td>\n",
       "      <td>blaheath</td>\n",
       "      <td>4.5</td>\n",
       "      <td>Batch 8144\\tPitch black in color with a 1/2 f...</td>\n",
       "      <td>2009-10-05 21:31:48</td>\n",
       "    </tr>\n",
       "    <tr>\n",
       "      <th>1</th>\n",
       "      <td>5.7</td>\n",
       "      <td>19736</td>\n",
       "      <td>9790</td>\n",
       "      <td>Duck-Rabbit Porter</td>\n",
       "      <td>American Porter</td>\n",
       "      <td>4.5</td>\n",
       "      <td>4.0</td>\n",
       "      <td>4.5</td>\n",
       "      <td>4.0</td>\n",
       "      <td>GJ40</td>\n",
       "      <td>4.0</td>\n",
       "      <td>Sampled from a 12oz bottle in a standard pint...</td>\n",
       "      <td>2009-10-05 21:32:09</td>\n",
       "    </tr>\n",
       "    <tr>\n",
       "      <th>2</th>\n",
       "      <td>4.8</td>\n",
       "      <td>11098</td>\n",
       "      <td>3182</td>\n",
       "      <td>Fürstenberg Premium Pilsener</td>\n",
       "      <td>German Pilsener</td>\n",
       "      <td>4.0</td>\n",
       "      <td>3.0</td>\n",
       "      <td>3.0</td>\n",
       "      <td>3.0</td>\n",
       "      <td>biegaman</td>\n",
       "      <td>3.5</td>\n",
       "      <td>Haystack yellow with an energetic group of bu...</td>\n",
       "      <td>2009-10-05 21:32:13</td>\n",
       "    </tr>\n",
       "    <tr>\n",
       "      <th>3</th>\n",
       "      <td>9.5</td>\n",
       "      <td>28577</td>\n",
       "      <td>3818</td>\n",
       "      <td>Unearthly (Imperial India Pale Ale)</td>\n",
       "      <td>American Double / Imperial IPA</td>\n",
       "      <td>4.0</td>\n",
       "      <td>4.0</td>\n",
       "      <td>4.0</td>\n",
       "      <td>4.0</td>\n",
       "      <td>nick76</td>\n",
       "      <td>4.0</td>\n",
       "      <td>The aroma has pine, wood, citrus, caramel, an...</td>\n",
       "      <td>2009-10-05 21:32:37</td>\n",
       "    </tr>\n",
       "    <tr>\n",
       "      <th>4</th>\n",
       "      <td>5.8</td>\n",
       "      <td>398</td>\n",
       "      <td>119</td>\n",
       "      <td>Wolaver's Pale Ale</td>\n",
       "      <td>American Pale Ale (APA)</td>\n",
       "      <td>4.0</td>\n",
       "      <td>3.0</td>\n",
       "      <td>4.0</td>\n",
       "      <td>3.5</td>\n",
       "      <td>champ103</td>\n",
       "      <td>3.0</td>\n",
       "      <td>A: Pours a slightly hazy golden/orange color....</td>\n",
       "      <td>2009-10-05 21:33:14</td>\n",
       "    </tr>\n",
       "  </tbody>\n",
       "</table>\n",
       "</div>"
      ],
      "text/plain": [
       "   abv  beer_id  brewer_id                            beer_name  \\\n",
       "0  7.0     2511        287                  Bell's Cherry Stout   \n",
       "1  5.7    19736       9790                   Duck-Rabbit Porter   \n",
       "2  4.8    11098       3182         Fürstenberg Premium Pilsener   \n",
       "3  9.5    28577       3818  Unearthly (Imperial India Pale Ale)   \n",
       "4  5.8      398        119                   Wolaver's Pale Ale   \n",
       "\n",
       "                       beer_style  review_appearance  review_aroma  \\\n",
       "0                  American Stout                4.5           4.0   \n",
       "1                 American Porter                4.5           4.0   \n",
       "2                 German Pilsener                4.0           3.0   \n",
       "3  American Double / Imperial IPA                4.0           4.0   \n",
       "4         American Pale Ale (APA)                4.0           3.0   \n",
       "\n",
       "   review_overall  review_palate profile_name  review_taste  \\\n",
       "0             4.5            4.0     blaheath           4.5   \n",
       "1             4.5            4.0         GJ40           4.0   \n",
       "2             3.0            3.0     biegaman           3.5   \n",
       "3             4.0            4.0       nick76           4.0   \n",
       "4             4.0            3.5     champ103           3.0   \n",
       "\n",
       "                                                text                time  \n",
       "0   Batch 8144\\tPitch black in color with a 1/2 f... 2009-10-05 21:31:48  \n",
       "1   Sampled from a 12oz bottle in a standard pint... 2009-10-05 21:32:09  \n",
       "2   Haystack yellow with an energetic group of bu... 2009-10-05 21:32:13  \n",
       "3   The aroma has pine, wood, citrus, caramel, an... 2009-10-05 21:32:37  \n",
       "4   A: Pours a slightly hazy golden/orange color.... 2009-10-05 21:33:14  "
      ]
     },
     "execution_count": 66,
     "metadata": {},
     "output_type": "execute_result"
    }
   ],
   "source": [
    "df = pd.read_csv('beer_subset.csv.gz', parse_dates=['time'], compression='gzip')\n",
    "review_cols = ['review_appearance', 'review_aroma', 'review_overall',\n",
    "               'review_palate', 'review_taste']\n",
    "df.head()"
   ]
  },
  {
   "cell_type": "markdown",
   "metadata": {},
   "source": [
    "## Boolean indexing\n",
    "\n",
    "Like a where clause in SQL. The indexer (or boolean mask) should be 1-dimensional and the same length as the thing being indexed."
   ]
  },
  {
   "cell_type": "code",
   "execution_count": 67,
   "metadata": {
    "ExecuteTime": {
     "end_time": "2019-08-13T04:21:55.298515Z",
     "start_time": "2019-08-13T04:21:55.291079Z"
    },
    "scrolled": true
   },
   "outputs": [
    {
     "data": {
      "text/plain": [
       "0      False\n",
       "1      False\n",
       "2       True\n",
       "3      False\n",
       "4      False\n",
       "       ...  \n",
       "994    False\n",
       "995    False\n",
       "996    False\n",
       "997    False\n",
       "998    False\n",
       "Name: abv, Length: 999, dtype: bool"
      ]
     },
     "execution_count": 67,
     "metadata": {},
     "output_type": "execute_result"
    }
   ],
   "source": [
    "df.abv < 5"
   ]
  },
  {
   "cell_type": "code",
   "execution_count": 68,
   "metadata": {
    "ExecuteTime": {
     "end_time": "2019-08-13T04:21:55.319420Z",
     "start_time": "2019-08-13T04:21:55.301006Z"
    },
    "scrolled": false
   },
   "outputs": [
    {
     "data": {
      "text/html": [
       "<div>\n",
       "<style scoped>\n",
       "    .dataframe tbody tr th:only-of-type {\n",
       "        vertical-align: middle;\n",
       "    }\n",
       "\n",
       "    .dataframe tbody tr th {\n",
       "        vertical-align: top;\n",
       "    }\n",
       "\n",
       "    .dataframe thead th {\n",
       "        text-align: right;\n",
       "    }\n",
       "</style>\n",
       "<table border=\"1\" class=\"dataframe\">\n",
       "  <thead>\n",
       "    <tr style=\"text-align: right;\">\n",
       "      <th></th>\n",
       "      <th>abv</th>\n",
       "      <th>beer_id</th>\n",
       "      <th>brewer_id</th>\n",
       "      <th>beer_name</th>\n",
       "      <th>beer_style</th>\n",
       "      <th>review_appearance</th>\n",
       "      <th>review_aroma</th>\n",
       "      <th>review_overall</th>\n",
       "      <th>review_palate</th>\n",
       "      <th>profile_name</th>\n",
       "      <th>review_taste</th>\n",
       "      <th>text</th>\n",
       "      <th>time</th>\n",
       "    </tr>\n",
       "  </thead>\n",
       "  <tbody>\n",
       "    <tr>\n",
       "      <th>2</th>\n",
       "      <td>4.8</td>\n",
       "      <td>11098</td>\n",
       "      <td>3182</td>\n",
       "      <td>Fürstenberg Premium Pilsener</td>\n",
       "      <td>German Pilsener</td>\n",
       "      <td>4.0</td>\n",
       "      <td>3.0</td>\n",
       "      <td>3.0</td>\n",
       "      <td>3.0</td>\n",
       "      <td>biegaman</td>\n",
       "      <td>3.5</td>\n",
       "      <td>Haystack yellow with an energetic group of bu...</td>\n",
       "      <td>2009-10-05 21:32:13</td>\n",
       "    </tr>\n",
       "    <tr>\n",
       "      <th>7</th>\n",
       "      <td>4.8</td>\n",
       "      <td>1669</td>\n",
       "      <td>256</td>\n",
       "      <td>Great White</td>\n",
       "      <td>Witbier</td>\n",
       "      <td>4.5</td>\n",
       "      <td>4.5</td>\n",
       "      <td>4.5</td>\n",
       "      <td>4.5</td>\n",
       "      <td>n0rc41</td>\n",
       "      <td>4.5</td>\n",
       "      <td>Ok, for starters great white I believe will b...</td>\n",
       "      <td>2009-10-05 21:34:29</td>\n",
       "    </tr>\n",
       "    <tr>\n",
       "      <th>21</th>\n",
       "      <td>4.6</td>\n",
       "      <td>401</td>\n",
       "      <td>118</td>\n",
       "      <td>Dark Island</td>\n",
       "      <td>Scottish Ale</td>\n",
       "      <td>4.0</td>\n",
       "      <td>4.0</td>\n",
       "      <td>3.5</td>\n",
       "      <td>4.0</td>\n",
       "      <td>abuliarose</td>\n",
       "      <td>4.0</td>\n",
       "      <td>Poured into a snifter, revealing black opaque...</td>\n",
       "      <td>2009-10-05 21:47:36</td>\n",
       "    </tr>\n",
       "    <tr>\n",
       "      <th>22</th>\n",
       "      <td>4.9</td>\n",
       "      <td>5044</td>\n",
       "      <td>18968</td>\n",
       "      <td>Kipona Fest</td>\n",
       "      <td>Märzen / Oktoberfest</td>\n",
       "      <td>4.0</td>\n",
       "      <td>3.5</td>\n",
       "      <td>4.0</td>\n",
       "      <td>4.0</td>\n",
       "      <td>drcarver</td>\n",
       "      <td>4.0</td>\n",
       "      <td>A - a medium brown body with an off white hea...</td>\n",
       "      <td>2009-10-05 21:47:56</td>\n",
       "    </tr>\n",
       "    <tr>\n",
       "      <th>28</th>\n",
       "      <td>4.6</td>\n",
       "      <td>401</td>\n",
       "      <td>118</td>\n",
       "      <td>Dark Island</td>\n",
       "      <td>Scottish Ale</td>\n",
       "      <td>4.0</td>\n",
       "      <td>4.0</td>\n",
       "      <td>4.5</td>\n",
       "      <td>4.0</td>\n",
       "      <td>sisuspeed</td>\n",
       "      <td>4.0</td>\n",
       "      <td>The color of this beer fits the name well. Op...</td>\n",
       "      <td>2009-10-05 21:53:38</td>\n",
       "    </tr>\n",
       "  </tbody>\n",
       "</table>\n",
       "</div>"
      ],
      "text/plain": [
       "    abv  beer_id  brewer_id                     beer_name  \\\n",
       "2   4.8    11098       3182  Fürstenberg Premium Pilsener   \n",
       "7   4.8     1669        256                   Great White   \n",
       "21  4.6      401        118                   Dark Island   \n",
       "22  4.9     5044      18968                   Kipona Fest   \n",
       "28  4.6      401        118                   Dark Island   \n",
       "\n",
       "              beer_style  review_appearance  review_aroma  review_overall  \\\n",
       "2        German Pilsener                4.0           3.0             3.0   \n",
       "7                Witbier                4.5           4.5             4.5   \n",
       "21          Scottish Ale                4.0           4.0             3.5   \n",
       "22  Märzen / Oktoberfest                4.0           3.5             4.0   \n",
       "28          Scottish Ale                4.0           4.0             4.5   \n",
       "\n",
       "    review_palate profile_name  review_taste  \\\n",
       "2             3.0     biegaman           3.5   \n",
       "7             4.5       n0rc41           4.5   \n",
       "21            4.0   abuliarose           4.0   \n",
       "22            4.0     drcarver           4.0   \n",
       "28            4.0    sisuspeed           4.0   \n",
       "\n",
       "                                                 text                time  \n",
       "2    Haystack yellow with an energetic group of bu... 2009-10-05 21:32:13  \n",
       "7    Ok, for starters great white I believe will b... 2009-10-05 21:34:29  \n",
       "21   Poured into a snifter, revealing black opaque... 2009-10-05 21:47:36  \n",
       "22   A - a medium brown body with an off white hea... 2009-10-05 21:47:56  \n",
       "28   The color of this beer fits the name well. Op... 2009-10-05 21:53:38  "
      ]
     },
     "execution_count": 68,
     "metadata": {},
     "output_type": "execute_result"
    }
   ],
   "source": [
    "df[df.abv < 5].head()"
   ]
  },
  {
   "cell_type": "markdown",
   "metadata": {},
   "source": [
    "Notice that we just used `[]` there. We can pass the boolean indexer in to `.loc` as well."
   ]
  },
  {
   "cell_type": "code",
   "execution_count": 69,
   "metadata": {
    "ExecuteTime": {
     "end_time": "2019-08-13T04:21:55.335716Z",
     "start_time": "2019-08-13T04:21:55.320837Z"
    },
    "scrolled": true
   },
   "outputs": [
    {
     "data": {
      "text/html": [
       "<div>\n",
       "<style scoped>\n",
       "    .dataframe tbody tr th:only-of-type {\n",
       "        vertical-align: middle;\n",
       "    }\n",
       "\n",
       "    .dataframe tbody tr th {\n",
       "        vertical-align: top;\n",
       "    }\n",
       "\n",
       "    .dataframe thead th {\n",
       "        text-align: right;\n",
       "    }\n",
       "</style>\n",
       "<table border=\"1\" class=\"dataframe\">\n",
       "  <thead>\n",
       "    <tr style=\"text-align: right;\">\n",
       "      <th></th>\n",
       "      <th>beer_style</th>\n",
       "      <th>review_overall</th>\n",
       "    </tr>\n",
       "  </thead>\n",
       "  <tbody>\n",
       "    <tr>\n",
       "      <th>2</th>\n",
       "      <td>German Pilsener</td>\n",
       "      <td>3.0</td>\n",
       "    </tr>\n",
       "    <tr>\n",
       "      <th>7</th>\n",
       "      <td>Witbier</td>\n",
       "      <td>4.5</td>\n",
       "    </tr>\n",
       "    <tr>\n",
       "      <th>21</th>\n",
       "      <td>Scottish Ale</td>\n",
       "      <td>3.5</td>\n",
       "    </tr>\n",
       "    <tr>\n",
       "      <th>22</th>\n",
       "      <td>Märzen / Oktoberfest</td>\n",
       "      <td>4.0</td>\n",
       "    </tr>\n",
       "    <tr>\n",
       "      <th>28</th>\n",
       "      <td>Scottish Ale</td>\n",
       "      <td>4.5</td>\n",
       "    </tr>\n",
       "  </tbody>\n",
       "</table>\n",
       "</div>"
      ],
      "text/plain": [
       "              beer_style  review_overall\n",
       "2        German Pilsener             3.0\n",
       "7                Witbier             4.5\n",
       "21          Scottish Ale             3.5\n",
       "22  Märzen / Oktoberfest             4.0\n",
       "28          Scottish Ale             4.5"
      ]
     },
     "execution_count": 69,
     "metadata": {},
     "output_type": "execute_result"
    }
   ],
   "source": [
    "df.loc[df.abv < 5, ['beer_style', 'review_overall']].head()"
   ]
  },
  {
   "cell_type": "markdown",
   "metadata": {},
   "source": [
    "Again, you can get complicated"
   ]
  },
  {
   "cell_type": "code",
   "execution_count": 72,
   "metadata": {
    "ExecuteTime": {
     "end_time": "2019-08-13T04:21:55.384325Z",
     "start_time": "2019-08-13T04:21:55.337206Z"
    },
    "scrolled": true
   },
   "outputs": [
    {
     "data": {
      "text/html": [
       "<div>\n",
       "<style scoped>\n",
       "    .dataframe tbody tr th:only-of-type {\n",
       "        vertical-align: middle;\n",
       "    }\n",
       "\n",
       "    .dataframe tbody tr th {\n",
       "        vertical-align: top;\n",
       "    }\n",
       "\n",
       "    .dataframe thead th {\n",
       "        text-align: right;\n",
       "    }\n",
       "</style>\n",
       "<table border=\"1\" class=\"dataframe\">\n",
       "  <thead>\n",
       "    <tr style=\"text-align: right;\">\n",
       "      <th></th>\n",
       "      <th>abv</th>\n",
       "      <th>beer_id</th>\n",
       "      <th>brewer_id</th>\n",
       "      <th>beer_name</th>\n",
       "      <th>beer_style</th>\n",
       "      <th>review_appearance</th>\n",
       "      <th>review_aroma</th>\n",
       "      <th>review_overall</th>\n",
       "      <th>review_palate</th>\n",
       "      <th>profile_name</th>\n",
       "      <th>review_taste</th>\n",
       "      <th>text</th>\n",
       "      <th>time</th>\n",
       "    </tr>\n",
       "  </thead>\n",
       "  <tbody>\n",
       "    <tr>\n",
       "      <th>0</th>\n",
       "      <td>7.0</td>\n",
       "      <td>2511</td>\n",
       "      <td>287</td>\n",
       "      <td>Bell's Cherry Stout</td>\n",
       "      <td>American Stout</td>\n",
       "      <td>4.5</td>\n",
       "      <td>4.0</td>\n",
       "      <td>4.5</td>\n",
       "      <td>4.0</td>\n",
       "      <td>blaheath</td>\n",
       "      <td>4.5</td>\n",
       "      <td>Batch 8144\\tPitch black in color with a 1/2 f...</td>\n",
       "      <td>2009-10-05 21:31:48</td>\n",
       "    </tr>\n",
       "    <tr>\n",
       "      <th>1</th>\n",
       "      <td>5.7</td>\n",
       "      <td>19736</td>\n",
       "      <td>9790</td>\n",
       "      <td>Duck-Rabbit Porter</td>\n",
       "      <td>American Porter</td>\n",
       "      <td>4.5</td>\n",
       "      <td>4.0</td>\n",
       "      <td>4.5</td>\n",
       "      <td>4.0</td>\n",
       "      <td>GJ40</td>\n",
       "      <td>4.0</td>\n",
       "      <td>Sampled from a 12oz bottle in a standard pint...</td>\n",
       "      <td>2009-10-05 21:32:09</td>\n",
       "    </tr>\n",
       "    <tr>\n",
       "      <th>2</th>\n",
       "      <td>4.8</td>\n",
       "      <td>11098</td>\n",
       "      <td>3182</td>\n",
       "      <td>Fürstenberg Premium Pilsener</td>\n",
       "      <td>German Pilsener</td>\n",
       "      <td>4.0</td>\n",
       "      <td>3.0</td>\n",
       "      <td>3.0</td>\n",
       "      <td>3.0</td>\n",
       "      <td>biegaman</td>\n",
       "      <td>3.5</td>\n",
       "      <td>Haystack yellow with an energetic group of bu...</td>\n",
       "      <td>2009-10-05 21:32:13</td>\n",
       "    </tr>\n",
       "    <tr>\n",
       "      <th>6</th>\n",
       "      <td>6.2</td>\n",
       "      <td>53128</td>\n",
       "      <td>1114</td>\n",
       "      <td>Smokin' Amber Kegs Gone Wild</td>\n",
       "      <td>American Amber / Red Ale</td>\n",
       "      <td>3.5</td>\n",
       "      <td>4.0</td>\n",
       "      <td>4.5</td>\n",
       "      <td>4.0</td>\n",
       "      <td>Deuane</td>\n",
       "      <td>4.5</td>\n",
       "      <td>An American amber with the addition of smoked...</td>\n",
       "      <td>2009-10-05 21:34:24</td>\n",
       "    </tr>\n",
       "    <tr>\n",
       "      <th>7</th>\n",
       "      <td>4.8</td>\n",
       "      <td>1669</td>\n",
       "      <td>256</td>\n",
       "      <td>Great White</td>\n",
       "      <td>Witbier</td>\n",
       "      <td>4.5</td>\n",
       "      <td>4.5</td>\n",
       "      <td>4.5</td>\n",
       "      <td>4.5</td>\n",
       "      <td>n0rc41</td>\n",
       "      <td>4.5</td>\n",
       "      <td>Ok, for starters great white I believe will b...</td>\n",
       "      <td>2009-10-05 21:34:29</td>\n",
       "    </tr>\n",
       "    <tr>\n",
       "      <th>...</th>\n",
       "      <td>...</td>\n",
       "      <td>...</td>\n",
       "      <td>...</td>\n",
       "      <td>...</td>\n",
       "      <td>...</td>\n",
       "      <td>...</td>\n",
       "      <td>...</td>\n",
       "      <td>...</td>\n",
       "      <td>...</td>\n",
       "      <td>...</td>\n",
       "      <td>...</td>\n",
       "      <td>...</td>\n",
       "      <td>...</td>\n",
       "    </tr>\n",
       "    <tr>\n",
       "      <th>987</th>\n",
       "      <td>7.2</td>\n",
       "      <td>39296</td>\n",
       "      <td>14400</td>\n",
       "      <td>Oatis</td>\n",
       "      <td>Oatmeal Stout</td>\n",
       "      <td>4.0</td>\n",
       "      <td>4.0</td>\n",
       "      <td>4.5</td>\n",
       "      <td>4.5</td>\n",
       "      <td>GJ40</td>\n",
       "      <td>4.0</td>\n",
       "      <td>Sampled from a 22oz bottle purchased at Pike ...</td>\n",
       "      <td>2009-10-07 01:50:50</td>\n",
       "    </tr>\n",
       "    <tr>\n",
       "      <th>989</th>\n",
       "      <td>7.0</td>\n",
       "      <td>782</td>\n",
       "      <td>113</td>\n",
       "      <td>Samuel Smith's Imperial Stout</td>\n",
       "      <td>Russian Imperial Stout</td>\n",
       "      <td>5.0</td>\n",
       "      <td>4.0</td>\n",
       "      <td>4.5</td>\n",
       "      <td>4.0</td>\n",
       "      <td>SamN</td>\n",
       "      <td>3.0</td>\n",
       "      <td>Bomber purchased from Campus West Liquors and...</td>\n",
       "      <td>2009-10-07 01:54:05</td>\n",
       "    </tr>\n",
       "    <tr>\n",
       "      <th>992</th>\n",
       "      <td>5.7</td>\n",
       "      <td>46767</td>\n",
       "      <td>8</td>\n",
       "      <td>Drifter Pale Ale</td>\n",
       "      <td>American Pale Ale (APA)</td>\n",
       "      <td>3.5</td>\n",
       "      <td>4.0</td>\n",
       "      <td>4.5</td>\n",
       "      <td>4.0</td>\n",
       "      <td>thespaceman</td>\n",
       "      <td>4.0</td>\n",
       "      <td>Had on tap at Smokin' With Chris in Southingt...</td>\n",
       "      <td>2009-10-07 01:57:03</td>\n",
       "    </tr>\n",
       "    <tr>\n",
       "      <th>993</th>\n",
       "      <td>10.0</td>\n",
       "      <td>36728</td>\n",
       "      <td>18149</td>\n",
       "      <td>10 Commandments</td>\n",
       "      <td>Belgian Strong Dark Ale</td>\n",
       "      <td>4.0</td>\n",
       "      <td>4.0</td>\n",
       "      <td>4.5</td>\n",
       "      <td>4.0</td>\n",
       "      <td>ClockworkOrange</td>\n",
       "      <td>4.0</td>\n",
       "      <td>This bottle has been in the cellar for at lea...</td>\n",
       "      <td>2009-10-07 01:57:56</td>\n",
       "    </tr>\n",
       "    <tr>\n",
       "      <th>995</th>\n",
       "      <td>6.5</td>\n",
       "      <td>49728</td>\n",
       "      <td>2874</td>\n",
       "      <td>St. Feuillien Saison</td>\n",
       "      <td>Saison / Farmhouse Ale</td>\n",
       "      <td>4.0</td>\n",
       "      <td>3.5</td>\n",
       "      <td>5.0</td>\n",
       "      <td>4.0</td>\n",
       "      <td>Kraken</td>\n",
       "      <td>4.5</td>\n",
       "      <td>Reviewed 10/6/09\\t\\tPoured from a corked and ...</td>\n",
       "      <td>2009-10-07 01:58:45</td>\n",
       "    </tr>\n",
       "  </tbody>\n",
       "</table>\n",
       "<p>353 rows × 13 columns</p>\n",
       "</div>"
      ],
      "text/plain": [
       "      abv  beer_id  brewer_id                      beer_name  \\\n",
       "0     7.0     2511        287            Bell's Cherry Stout   \n",
       "1     5.7    19736       9790             Duck-Rabbit Porter   \n",
       "2     4.8    11098       3182   Fürstenberg Premium Pilsener   \n",
       "6     6.2    53128       1114   Smokin' Amber Kegs Gone Wild   \n",
       "7     4.8     1669        256                    Great White   \n",
       "..    ...      ...        ...                            ...   \n",
       "987   7.2    39296      14400                          Oatis   \n",
       "989   7.0      782        113  Samuel Smith's Imperial Stout   \n",
       "992   5.7    46767          8               Drifter Pale Ale   \n",
       "993  10.0    36728      18149                10 Commandments   \n",
       "995   6.5    49728       2874           St. Feuillien Saison   \n",
       "\n",
       "                   beer_style  review_appearance  review_aroma  \\\n",
       "0              American Stout                4.5           4.0   \n",
       "1             American Porter                4.5           4.0   \n",
       "2             German Pilsener                4.0           3.0   \n",
       "6    American Amber / Red Ale                3.5           4.0   \n",
       "7                     Witbier                4.5           4.5   \n",
       "..                        ...                ...           ...   \n",
       "987             Oatmeal Stout                4.0           4.0   \n",
       "989    Russian Imperial Stout                5.0           4.0   \n",
       "992   American Pale Ale (APA)                3.5           4.0   \n",
       "993   Belgian Strong Dark Ale                4.0           4.0   \n",
       "995    Saison / Farmhouse Ale                4.0           3.5   \n",
       "\n",
       "     review_overall  review_palate     profile_name  review_taste  \\\n",
       "0               4.5            4.0         blaheath           4.5   \n",
       "1               4.5            4.0             GJ40           4.0   \n",
       "2               3.0            3.0         biegaman           3.5   \n",
       "6               4.5            4.0           Deuane           4.5   \n",
       "7               4.5            4.5           n0rc41           4.5   \n",
       "..              ...            ...              ...           ...   \n",
       "987             4.5            4.5             GJ40           4.0   \n",
       "989             4.5            4.0             SamN           3.0   \n",
       "992             4.5            4.0      thespaceman           4.0   \n",
       "993             4.5            4.0  ClockworkOrange           4.0   \n",
       "995             5.0            4.0           Kraken           4.5   \n",
       "\n",
       "                                                  text                time  \n",
       "0     Batch 8144\\tPitch black in color with a 1/2 f... 2009-10-05 21:31:48  \n",
       "1     Sampled from a 12oz bottle in a standard pint... 2009-10-05 21:32:09  \n",
       "2     Haystack yellow with an energetic group of bu... 2009-10-05 21:32:13  \n",
       "6     An American amber with the addition of smoked... 2009-10-05 21:34:24  \n",
       "7     Ok, for starters great white I believe will b... 2009-10-05 21:34:29  \n",
       "..                                                 ...                 ...  \n",
       "987   Sampled from a 22oz bottle purchased at Pike ... 2009-10-07 01:50:50  \n",
       "989   Bomber purchased from Campus West Liquors and... 2009-10-07 01:54:05  \n",
       "992   Had on tap at Smokin' With Chris in Southingt... 2009-10-07 01:57:03  \n",
       "993   This bottle has been in the cellar for at lea... 2009-10-07 01:57:56  \n",
       "995   Reviewed 10/6/09\\t\\tPoured from a corked and ... 2009-10-07 01:58:45  \n",
       "\n",
       "[353 rows x 13 columns]"
      ]
     },
     "execution_count": 72,
     "metadata": {},
     "output_type": "execute_result"
    }
   ],
   "source": [
    "df[((df.abv < 5) & (df.time > pd.Timestamp('2009-06'))) | (df.review_overall >= 4.5)]"
   ]
  },
  {
   "cell_type": "markdown",
   "metadata": {},
   "source": [
    "<div class=\"alert alert-success\">\n",
    "    <b>Exercise</b>: Find the American beers\n",
    "</div>\n",
    "\n",
    "Select just the rows where the `beer_style` contains `'American'`. \n",
    "\n",
    "Hint: `Series` containing strings have a bunch of [useful methods](http://pandas.pydata.org/pandas-docs/stable/text.html#method-summary) under the `DataFrame.<column>.str` namespace. Typically they correspond to regular python string methods, but\n",
    "\n",
    "- They gracefully propogate missing values\n",
    "- They're a bit more liberal about accepting regular expressions\n",
    "\n",
    "We can't use `'American' in df['beer_style']`, since `in` is used to check membership in the series itself, not the strings. But `in` uses `__contains__`, so look for a string method like that."
   ]
  },
  {
   "cell_type": "code",
   "execution_count": 73,
   "metadata": {
    "ExecuteTime": {
     "end_time": "2019-08-13T04:21:55.395237Z",
     "start_time": "2019-08-13T04:21:55.386310Z"
    },
    "scrolled": true
   },
   "outputs": [
    {
     "data": {
      "text/plain": [
       "0       True\n",
       "1       True\n",
       "2      False\n",
       "3       True\n",
       "4       True\n",
       "       ...  \n",
       "994     True\n",
       "995    False\n",
       "996     True\n",
       "997    False\n",
       "998     True\n",
       "Name: beer_style, Length: 999, dtype: bool"
      ]
     },
     "execution_count": 73,
     "metadata": {},
     "output_type": "execute_result"
    }
   ],
   "source": [
    "df.beer_style.str.contains(\"American\")"
   ]
  },
  {
   "cell_type": "code",
   "execution_count": 74,
   "metadata": {
    "ExecuteTime": {
     "end_time": "2019-08-13T04:21:55.443348Z",
     "start_time": "2019-08-13T04:21:55.397221Z"
    },
    "scrolled": true
   },
   "outputs": [
    {
     "data": {
      "text/html": [
       "<div>\n",
       "<style scoped>\n",
       "    .dataframe tbody tr th:only-of-type {\n",
       "        vertical-align: middle;\n",
       "    }\n",
       "\n",
       "    .dataframe tbody tr th {\n",
       "        vertical-align: top;\n",
       "    }\n",
       "\n",
       "    .dataframe thead th {\n",
       "        text-align: right;\n",
       "    }\n",
       "</style>\n",
       "<table border=\"1\" class=\"dataframe\">\n",
       "  <thead>\n",
       "    <tr style=\"text-align: right;\">\n",
       "      <th></th>\n",
       "      <th>abv</th>\n",
       "      <th>beer_id</th>\n",
       "      <th>brewer_id</th>\n",
       "      <th>beer_name</th>\n",
       "      <th>beer_style</th>\n",
       "      <th>review_appearance</th>\n",
       "      <th>review_aroma</th>\n",
       "      <th>review_overall</th>\n",
       "      <th>review_palate</th>\n",
       "      <th>profile_name</th>\n",
       "      <th>review_taste</th>\n",
       "      <th>text</th>\n",
       "      <th>time</th>\n",
       "    </tr>\n",
       "  </thead>\n",
       "  <tbody>\n",
       "    <tr>\n",
       "      <th>0</th>\n",
       "      <td>7.0</td>\n",
       "      <td>2511</td>\n",
       "      <td>287</td>\n",
       "      <td>Bell's Cherry Stout</td>\n",
       "      <td>American Stout</td>\n",
       "      <td>4.5</td>\n",
       "      <td>4.0</td>\n",
       "      <td>4.5</td>\n",
       "      <td>4.0</td>\n",
       "      <td>blaheath</td>\n",
       "      <td>4.5</td>\n",
       "      <td>Batch 8144\\tPitch black in color with a 1/2 f...</td>\n",
       "      <td>2009-10-05 21:31:48</td>\n",
       "    </tr>\n",
       "    <tr>\n",
       "      <th>1</th>\n",
       "      <td>5.7</td>\n",
       "      <td>19736</td>\n",
       "      <td>9790</td>\n",
       "      <td>Duck-Rabbit Porter</td>\n",
       "      <td>American Porter</td>\n",
       "      <td>4.5</td>\n",
       "      <td>4.0</td>\n",
       "      <td>4.5</td>\n",
       "      <td>4.0</td>\n",
       "      <td>GJ40</td>\n",
       "      <td>4.0</td>\n",
       "      <td>Sampled from a 12oz bottle in a standard pint...</td>\n",
       "      <td>2009-10-05 21:32:09</td>\n",
       "    </tr>\n",
       "    <tr>\n",
       "      <th>3</th>\n",
       "      <td>9.5</td>\n",
       "      <td>28577</td>\n",
       "      <td>3818</td>\n",
       "      <td>Unearthly (Imperial India Pale Ale)</td>\n",
       "      <td>American Double / Imperial IPA</td>\n",
       "      <td>4.0</td>\n",
       "      <td>4.0</td>\n",
       "      <td>4.0</td>\n",
       "      <td>4.0</td>\n",
       "      <td>nick76</td>\n",
       "      <td>4.0</td>\n",
       "      <td>The aroma has pine, wood, citrus, caramel, an...</td>\n",
       "      <td>2009-10-05 21:32:37</td>\n",
       "    </tr>\n",
       "    <tr>\n",
       "      <th>4</th>\n",
       "      <td>5.8</td>\n",
       "      <td>398</td>\n",
       "      <td>119</td>\n",
       "      <td>Wolaver's Pale Ale</td>\n",
       "      <td>American Pale Ale (APA)</td>\n",
       "      <td>4.0</td>\n",
       "      <td>3.0</td>\n",
       "      <td>4.0</td>\n",
       "      <td>3.5</td>\n",
       "      <td>champ103</td>\n",
       "      <td>3.0</td>\n",
       "      <td>A: Pours a slightly hazy golden/orange color....</td>\n",
       "      <td>2009-10-05 21:33:14</td>\n",
       "    </tr>\n",
       "    <tr>\n",
       "      <th>5</th>\n",
       "      <td>7.0</td>\n",
       "      <td>966</td>\n",
       "      <td>365</td>\n",
       "      <td>Pike Street XXXXX Stout</td>\n",
       "      <td>American Stout</td>\n",
       "      <td>4.0</td>\n",
       "      <td>4.0</td>\n",
       "      <td>3.5</td>\n",
       "      <td>4.0</td>\n",
       "      <td>sprucetip</td>\n",
       "      <td>4.5</td>\n",
       "      <td>From notes. Pours black, thin mocha head fade...</td>\n",
       "      <td>2009-10-05 21:33:48</td>\n",
       "    </tr>\n",
       "    <tr>\n",
       "      <th>...</th>\n",
       "      <td>...</td>\n",
       "      <td>...</td>\n",
       "      <td>...</td>\n",
       "      <td>...</td>\n",
       "      <td>...</td>\n",
       "      <td>...</td>\n",
       "      <td>...</td>\n",
       "      <td>...</td>\n",
       "      <td>...</td>\n",
       "      <td>...</td>\n",
       "      <td>...</td>\n",
       "      <td>...</td>\n",
       "      <td>...</td>\n",
       "    </tr>\n",
       "    <tr>\n",
       "      <th>988</th>\n",
       "      <td>5.4</td>\n",
       "      <td>61547</td>\n",
       "      <td>23058</td>\n",
       "      <td>Hoppy Dog</td>\n",
       "      <td>American Pale Ale (APA)</td>\n",
       "      <td>4.0</td>\n",
       "      <td>2.0</td>\n",
       "      <td>2.0</td>\n",
       "      <td>3.0</td>\n",
       "      <td>ClockworkOrange</td>\n",
       "      <td>2.0</td>\n",
       "      <td>A very nice looking cobalt blue 1L swing top....</td>\n",
       "      <td>2009-10-07 01:52:06</td>\n",
       "    </tr>\n",
       "    <tr>\n",
       "      <th>992</th>\n",
       "      <td>5.7</td>\n",
       "      <td>46767</td>\n",
       "      <td>8</td>\n",
       "      <td>Drifter Pale Ale</td>\n",
       "      <td>American Pale Ale (APA)</td>\n",
       "      <td>3.5</td>\n",
       "      <td>4.0</td>\n",
       "      <td>4.5</td>\n",
       "      <td>4.0</td>\n",
       "      <td>thespaceman</td>\n",
       "      <td>4.0</td>\n",
       "      <td>Had on tap at Smokin' With Chris in Southingt...</td>\n",
       "      <td>2009-10-07 01:57:03</td>\n",
       "    </tr>\n",
       "    <tr>\n",
       "      <th>994</th>\n",
       "      <td>6.5</td>\n",
       "      <td>184</td>\n",
       "      <td>141</td>\n",
       "      <td>Smuttynose Old Brown Dog Ale</td>\n",
       "      <td>American Brown Ale</td>\n",
       "      <td>4.5</td>\n",
       "      <td>4.0</td>\n",
       "      <td>3.5</td>\n",
       "      <td>4.0</td>\n",
       "      <td>Jayli</td>\n",
       "      <td>4.0</td>\n",
       "      <td>consumed 10/2/09\\tThis beer poured a nice cle...</td>\n",
       "      <td>2009-10-07 01:58:20</td>\n",
       "    </tr>\n",
       "    <tr>\n",
       "      <th>996</th>\n",
       "      <td>9.8</td>\n",
       "      <td>21166</td>\n",
       "      <td>156</td>\n",
       "      <td>Imperial Nut Brown Ale</td>\n",
       "      <td>American Brown Ale</td>\n",
       "      <td>3.5</td>\n",
       "      <td>4.0</td>\n",
       "      <td>2.5</td>\n",
       "      <td>3.5</td>\n",
       "      <td>natelocc787</td>\n",
       "      <td>4.0</td>\n",
       "      <td>This beer contained sediment. Maple and brown...</td>\n",
       "      <td>2009-10-07 02:02:23</td>\n",
       "    </tr>\n",
       "    <tr>\n",
       "      <th>998</th>\n",
       "      <td>10.4</td>\n",
       "      <td>28578</td>\n",
       "      <td>3818</td>\n",
       "      <td>Jahva (Imperial Coffee Stout)</td>\n",
       "      <td>American Double / Imperial Stout</td>\n",
       "      <td>4.0</td>\n",
       "      <td>4.0</td>\n",
       "      <td>3.0</td>\n",
       "      <td>4.0</td>\n",
       "      <td>ritzkiss</td>\n",
       "      <td>3.5</td>\n",
       "      <td>22oz bottle from Bobsy a while ago, finally c...</td>\n",
       "      <td>2009-10-07 02:02:37</td>\n",
       "    </tr>\n",
       "  </tbody>\n",
       "</table>\n",
       "<p>426 rows × 13 columns</p>\n",
       "</div>"
      ],
      "text/plain": [
       "      abv  beer_id  brewer_id                            beer_name  \\\n",
       "0     7.0     2511        287                  Bell's Cherry Stout   \n",
       "1     5.7    19736       9790                   Duck-Rabbit Porter   \n",
       "3     9.5    28577       3818  Unearthly (Imperial India Pale Ale)   \n",
       "4     5.8      398        119                   Wolaver's Pale Ale   \n",
       "5     7.0      966        365              Pike Street XXXXX Stout   \n",
       "..    ...      ...        ...                                  ...   \n",
       "988   5.4    61547      23058                            Hoppy Dog   \n",
       "992   5.7    46767          8                     Drifter Pale Ale   \n",
       "994   6.5      184        141         Smuttynose Old Brown Dog Ale   \n",
       "996   9.8    21166        156               Imperial Nut Brown Ale   \n",
       "998  10.4    28578       3818        Jahva (Imperial Coffee Stout)   \n",
       "\n",
       "                           beer_style  review_appearance  review_aroma  \\\n",
       "0                      American Stout                4.5           4.0   \n",
       "1                     American Porter                4.5           4.0   \n",
       "3      American Double / Imperial IPA                4.0           4.0   \n",
       "4             American Pale Ale (APA)                4.0           3.0   \n",
       "5                      American Stout                4.0           4.0   \n",
       "..                                ...                ...           ...   \n",
       "988           American Pale Ale (APA)                4.0           2.0   \n",
       "992           American Pale Ale (APA)                3.5           4.0   \n",
       "994                American Brown Ale                4.5           4.0   \n",
       "996                American Brown Ale                3.5           4.0   \n",
       "998  American Double / Imperial Stout                4.0           4.0   \n",
       "\n",
       "     review_overall  review_palate     profile_name  review_taste  \\\n",
       "0               4.5            4.0         blaheath           4.5   \n",
       "1               4.5            4.0             GJ40           4.0   \n",
       "3               4.0            4.0           nick76           4.0   \n",
       "4               4.0            3.5         champ103           3.0   \n",
       "5               3.5            4.0        sprucetip           4.5   \n",
       "..              ...            ...              ...           ...   \n",
       "988             2.0            3.0  ClockworkOrange           2.0   \n",
       "992             4.5            4.0      thespaceman           4.0   \n",
       "994             3.5            4.0            Jayli           4.0   \n",
       "996             2.5            3.5      natelocc787           4.0   \n",
       "998             3.0            4.0         ritzkiss           3.5   \n",
       "\n",
       "                                                  text                time  \n",
       "0     Batch 8144\\tPitch black in color with a 1/2 f... 2009-10-05 21:31:48  \n",
       "1     Sampled from a 12oz bottle in a standard pint... 2009-10-05 21:32:09  \n",
       "3     The aroma has pine, wood, citrus, caramel, an... 2009-10-05 21:32:37  \n",
       "4     A: Pours a slightly hazy golden/orange color.... 2009-10-05 21:33:14  \n",
       "5     From notes. Pours black, thin mocha head fade... 2009-10-05 21:33:48  \n",
       "..                                                 ...                 ...  \n",
       "988   A very nice looking cobalt blue 1L swing top.... 2009-10-07 01:52:06  \n",
       "992   Had on tap at Smokin' With Chris in Southingt... 2009-10-07 01:57:03  \n",
       "994   consumed 10/2/09\\tThis beer poured a nice cle... 2009-10-07 01:58:20  \n",
       "996   This beer contained sediment. Maple and brown... 2009-10-07 02:02:23  \n",
       "998   22oz bottle from Bobsy a while ago, finally c... 2009-10-07 02:02:37  \n",
       "\n",
       "[426 rows x 13 columns]"
      ]
     },
     "execution_count": 74,
     "metadata": {},
     "output_type": "execute_result"
    }
   ],
   "source": [
    "# Your solution\n",
    "is_ipa = df.beer_style.str.contains(\"American\")\n",
    "df[is_ipa]"
   ]
  },
  {
   "cell_type": "markdown",
   "metadata": {},
   "source": [
    "## Groupby"
   ]
  },
  {
   "cell_type": "markdown",
   "metadata": {},
   "source": [
    "Groupby is a fundamental operation to pandas and data analysis.\n",
    "\n",
    "The components of a groupby operation are to\n",
    "\n",
    "1. Split a table into groups\n",
    "2. Apply a function to each group\n",
    "3. Combine the results\n",
    "\n",
    "In pandas the first step looks like\n",
    "\n",
    "```python\n",
    "df.groupby( grouper )\n",
    "```\n",
    "\n",
    "`grouper` can be many things\n",
    "\n",
    "- Series (or string indicating a column in `df`)\n",
    "- function (to be applied on the index)\n",
    "- dict : groups by *values*\n",
    "- `levels=[ names of levels in a MultiIndex ]`"
   ]
  },
  {
   "cell_type": "code",
   "execution_count": 76,
   "metadata": {
    "ExecuteTime": {
     "end_time": "2019-08-13T04:21:55.450291Z",
     "start_time": "2019-08-13T04:21:55.445332Z"
    }
   },
   "outputs": [
    {
     "data": {
      "text/plain": [
       "<pandas.core.groupby.generic.DataFrameGroupBy object at 0x7fd1e7ec3250>"
      ]
     },
     "execution_count": 76,
     "metadata": {},
     "output_type": "execute_result"
    }
   ],
   "source": [
    "gr = df.groupby('beer_style')\n",
    "gr"
   ]
  },
  {
   "cell_type": "markdown",
   "metadata": {},
   "source": [
    "Haven't really done anything yet. Just some book-keeping to figure out which **keys** go with which **rows**. Keys are the things we've grouped by (each `beer_style` in this case).\n",
    "\n",
    "The last two steps, apply and combine, are just:"
   ]
  },
  {
   "cell_type": "code",
   "execution_count": 77,
   "metadata": {
    "ExecuteTime": {
     "end_time": "2019-08-13T04:21:55.481539Z",
     "start_time": "2019-08-13T04:21:55.451780Z"
    },
    "scrolled": true
   },
   "outputs": [
    {
     "data": {
      "text/html": [
       "<div>\n",
       "<style scoped>\n",
       "    .dataframe tbody tr th:only-of-type {\n",
       "        vertical-align: middle;\n",
       "    }\n",
       "\n",
       "    .dataframe tbody tr th {\n",
       "        vertical-align: top;\n",
       "    }\n",
       "\n",
       "    .dataframe thead th {\n",
       "        text-align: right;\n",
       "    }\n",
       "</style>\n",
       "<table border=\"1\" class=\"dataframe\">\n",
       "  <thead>\n",
       "    <tr style=\"text-align: right;\">\n",
       "      <th></th>\n",
       "      <th>abv</th>\n",
       "      <th>beer_id</th>\n",
       "      <th>brewer_id</th>\n",
       "      <th>review_appearance</th>\n",
       "      <th>review_aroma</th>\n",
       "      <th>review_overall</th>\n",
       "      <th>review_palate</th>\n",
       "      <th>review_taste</th>\n",
       "    </tr>\n",
       "    <tr>\n",
       "      <th>beer_style</th>\n",
       "      <th></th>\n",
       "      <th></th>\n",
       "      <th></th>\n",
       "      <th></th>\n",
       "      <th></th>\n",
       "      <th></th>\n",
       "      <th></th>\n",
       "      <th></th>\n",
       "    </tr>\n",
       "  </thead>\n",
       "  <tbody>\n",
       "    <tr>\n",
       "      <th>Altbier</th>\n",
       "      <td>5.850000</td>\n",
       "      <td>43260.500000</td>\n",
       "      <td>419.500000</td>\n",
       "      <td>4.000000</td>\n",
       "      <td>3.750000</td>\n",
       "      <td>4.000000</td>\n",
       "      <td>3.750000</td>\n",
       "      <td>4.000000</td>\n",
       "    </tr>\n",
       "    <tr>\n",
       "      <th>American Adjunct Lager</th>\n",
       "      <td>4.872727</td>\n",
       "      <td>12829.909091</td>\n",
       "      <td>2585.909091</td>\n",
       "      <td>2.954545</td>\n",
       "      <td>2.613636</td>\n",
       "      <td>3.272727</td>\n",
       "      <td>2.909091</td>\n",
       "      <td>2.750000</td>\n",
       "    </tr>\n",
       "    <tr>\n",
       "      <th>American Amber / Red Ale</th>\n",
       "      <td>6.195652</td>\n",
       "      <td>28366.777778</td>\n",
       "      <td>2531.111111</td>\n",
       "      <td>3.740741</td>\n",
       "      <td>3.592593</td>\n",
       "      <td>3.870370</td>\n",
       "      <td>3.555556</td>\n",
       "      <td>3.777778</td>\n",
       "    </tr>\n",
       "    <tr>\n",
       "      <th>American Amber / Red Lager</th>\n",
       "      <td>4.822857</td>\n",
       "      <td>22277.500000</td>\n",
       "      <td>5620.125000</td>\n",
       "      <td>3.437500</td>\n",
       "      <td>3.312500</td>\n",
       "      <td>3.375000</td>\n",
       "      <td>3.187500</td>\n",
       "      <td>3.125000</td>\n",
       "    </tr>\n",
       "    <tr>\n",
       "      <th>American Barleywine</th>\n",
       "      <td>10.208333</td>\n",
       "      <td>32457.250000</td>\n",
       "      <td>3744.083333</td>\n",
       "      <td>3.958333</td>\n",
       "      <td>3.937500</td>\n",
       "      <td>3.729167</td>\n",
       "      <td>3.895833</td>\n",
       "      <td>3.937500</td>\n",
       "    </tr>\n",
       "    <tr>\n",
       "      <th>...</th>\n",
       "      <td>...</td>\n",
       "      <td>...</td>\n",
       "      <td>...</td>\n",
       "      <td>...</td>\n",
       "      <td>...</td>\n",
       "      <td>...</td>\n",
       "      <td>...</td>\n",
       "      <td>...</td>\n",
       "    </tr>\n",
       "    <tr>\n",
       "      <th>Tripel</th>\n",
       "      <td>9.329412</td>\n",
       "      <td>16027.705882</td>\n",
       "      <td>2882.882353</td>\n",
       "      <td>4.264706</td>\n",
       "      <td>4.088235</td>\n",
       "      <td>3.970588</td>\n",
       "      <td>3.911765</td>\n",
       "      <td>4.176471</td>\n",
       "    </tr>\n",
       "    <tr>\n",
       "      <th>Vienna Lager</th>\n",
       "      <td>4.985714</td>\n",
       "      <td>19497.750000</td>\n",
       "      <td>6180.750000</td>\n",
       "      <td>3.500000</td>\n",
       "      <td>3.250000</td>\n",
       "      <td>3.375000</td>\n",
       "      <td>3.562500</td>\n",
       "      <td>3.312500</td>\n",
       "    </tr>\n",
       "    <tr>\n",
       "      <th>Weizenbock</th>\n",
       "      <td>8.350000</td>\n",
       "      <td>19540.500000</td>\n",
       "      <td>250.000000</td>\n",
       "      <td>4.000000</td>\n",
       "      <td>3.750000</td>\n",
       "      <td>4.250000</td>\n",
       "      <td>4.250000</td>\n",
       "      <td>4.250000</td>\n",
       "    </tr>\n",
       "    <tr>\n",
       "      <th>Wheatwine</th>\n",
       "      <td>11.075000</td>\n",
       "      <td>36980.000000</td>\n",
       "      <td>629.600000</td>\n",
       "      <td>3.800000</td>\n",
       "      <td>4.000000</td>\n",
       "      <td>3.500000</td>\n",
       "      <td>4.000000</td>\n",
       "      <td>3.700000</td>\n",
       "    </tr>\n",
       "    <tr>\n",
       "      <th>Witbier</th>\n",
       "      <td>6.175000</td>\n",
       "      <td>27346.600000</td>\n",
       "      <td>3583.700000</td>\n",
       "      <td>3.750000</td>\n",
       "      <td>3.650000</td>\n",
       "      <td>3.600000</td>\n",
       "      <td>3.550000</td>\n",
       "      <td>3.650000</td>\n",
       "    </tr>\n",
       "  </tbody>\n",
       "</table>\n",
       "<p>93 rows × 8 columns</p>\n",
       "</div>"
      ],
      "text/plain": [
       "                                  abv       beer_id    brewer_id  \\\n",
       "beer_style                                                         \n",
       "Altbier                      5.850000  43260.500000   419.500000   \n",
       "American Adjunct Lager       4.872727  12829.909091  2585.909091   \n",
       "American Amber / Red Ale     6.195652  28366.777778  2531.111111   \n",
       "American Amber / Red Lager   4.822857  22277.500000  5620.125000   \n",
       "American Barleywine         10.208333  32457.250000  3744.083333   \n",
       "...                               ...           ...          ...   \n",
       "Tripel                       9.329412  16027.705882  2882.882353   \n",
       "Vienna Lager                 4.985714  19497.750000  6180.750000   \n",
       "Weizenbock                   8.350000  19540.500000   250.000000   \n",
       "Wheatwine                   11.075000  36980.000000   629.600000   \n",
       "Witbier                      6.175000  27346.600000  3583.700000   \n",
       "\n",
       "                            review_appearance  review_aroma  review_overall  \\\n",
       "beer_style                                                                    \n",
       "Altbier                              4.000000      3.750000        4.000000   \n",
       "American Adjunct Lager               2.954545      2.613636        3.272727   \n",
       "American Amber / Red Ale             3.740741      3.592593        3.870370   \n",
       "American Amber / Red Lager           3.437500      3.312500        3.375000   \n",
       "American Barleywine                  3.958333      3.937500        3.729167   \n",
       "...                                       ...           ...             ...   \n",
       "Tripel                               4.264706      4.088235        3.970588   \n",
       "Vienna Lager                         3.500000      3.250000        3.375000   \n",
       "Weizenbock                           4.000000      3.750000        4.250000   \n",
       "Wheatwine                            3.800000      4.000000        3.500000   \n",
       "Witbier                              3.750000      3.650000        3.600000   \n",
       "\n",
       "                            review_palate  review_taste  \n",
       "beer_style                                               \n",
       "Altbier                          3.750000      4.000000  \n",
       "American Adjunct Lager           2.909091      2.750000  \n",
       "American Amber / Red Ale         3.555556      3.777778  \n",
       "American Amber / Red Lager       3.187500      3.125000  \n",
       "American Barleywine              3.895833      3.937500  \n",
       "...                                   ...           ...  \n",
       "Tripel                           3.911765      4.176471  \n",
       "Vienna Lager                     3.562500      3.312500  \n",
       "Weizenbock                       4.250000      4.250000  \n",
       "Wheatwine                        4.000000      3.700000  \n",
       "Witbier                          3.550000      3.650000  \n",
       "\n",
       "[93 rows x 8 columns]"
      ]
     },
     "execution_count": 77,
     "metadata": {},
     "output_type": "execute_result"
    }
   ],
   "source": [
    "gr.agg('mean')"
   ]
  },
  {
   "cell_type": "code",
   "execution_count": 33,
   "metadata": {
    "ExecuteTime": {
     "end_time": "2019-08-13T04:21:55.513283Z",
     "start_time": "2019-08-13T04:21:55.483537Z"
    },
    "scrolled": true
   },
   "outputs": [
    {
     "data": {
      "text/html": [
       "<div>\n",
       "<style scoped>\n",
       "    .dataframe tbody tr th:only-of-type {\n",
       "        vertical-align: middle;\n",
       "    }\n",
       "\n",
       "    .dataframe tbody tr th {\n",
       "        vertical-align: top;\n",
       "    }\n",
       "\n",
       "    .dataframe thead th {\n",
       "        text-align: right;\n",
       "    }\n",
       "</style>\n",
       "<table border=\"1\" class=\"dataframe\">\n",
       "  <thead>\n",
       "    <tr style=\"text-align: right;\">\n",
       "      <th></th>\n",
       "      <th>abv</th>\n",
       "      <th>beer_id</th>\n",
       "      <th>brewer_id</th>\n",
       "      <th>review_appearance</th>\n",
       "      <th>review_aroma</th>\n",
       "      <th>review_overall</th>\n",
       "      <th>review_palate</th>\n",
       "      <th>review_taste</th>\n",
       "    </tr>\n",
       "    <tr>\n",
       "      <th>beer_style</th>\n",
       "      <th></th>\n",
       "      <th></th>\n",
       "      <th></th>\n",
       "      <th></th>\n",
       "      <th></th>\n",
       "      <th></th>\n",
       "      <th></th>\n",
       "      <th></th>\n",
       "    </tr>\n",
       "  </thead>\n",
       "  <tbody>\n",
       "    <tr>\n",
       "      <th>Altbier</th>\n",
       "      <td>5.850000</td>\n",
       "      <td>43260.500000</td>\n",
       "      <td>419.500000</td>\n",
       "      <td>4.000000</td>\n",
       "      <td>3.750000</td>\n",
       "      <td>4.000000</td>\n",
       "      <td>3.750000</td>\n",
       "      <td>4.000000</td>\n",
       "    </tr>\n",
       "    <tr>\n",
       "      <th>American Adjunct Lager</th>\n",
       "      <td>4.872727</td>\n",
       "      <td>12829.909091</td>\n",
       "      <td>2585.909091</td>\n",
       "      <td>2.954545</td>\n",
       "      <td>2.613636</td>\n",
       "      <td>3.272727</td>\n",
       "      <td>2.909091</td>\n",
       "      <td>2.750000</td>\n",
       "    </tr>\n",
       "    <tr>\n",
       "      <th>American Amber / Red Ale</th>\n",
       "      <td>6.195652</td>\n",
       "      <td>28366.777778</td>\n",
       "      <td>2531.111111</td>\n",
       "      <td>3.740741</td>\n",
       "      <td>3.592593</td>\n",
       "      <td>3.870370</td>\n",
       "      <td>3.555556</td>\n",
       "      <td>3.777778</td>\n",
       "    </tr>\n",
       "    <tr>\n",
       "      <th>American Amber / Red Lager</th>\n",
       "      <td>4.822857</td>\n",
       "      <td>22277.500000</td>\n",
       "      <td>5620.125000</td>\n",
       "      <td>3.437500</td>\n",
       "      <td>3.312500</td>\n",
       "      <td>3.375000</td>\n",
       "      <td>3.187500</td>\n",
       "      <td>3.125000</td>\n",
       "    </tr>\n",
       "    <tr>\n",
       "      <th>American Barleywine</th>\n",
       "      <td>10.208333</td>\n",
       "      <td>32457.250000</td>\n",
       "      <td>3744.083333</td>\n",
       "      <td>3.958333</td>\n",
       "      <td>3.937500</td>\n",
       "      <td>3.729167</td>\n",
       "      <td>3.895833</td>\n",
       "      <td>3.937500</td>\n",
       "    </tr>\n",
       "    <tr>\n",
       "      <th>...</th>\n",
       "      <td>...</td>\n",
       "      <td>...</td>\n",
       "      <td>...</td>\n",
       "      <td>...</td>\n",
       "      <td>...</td>\n",
       "      <td>...</td>\n",
       "      <td>...</td>\n",
       "      <td>...</td>\n",
       "    </tr>\n",
       "    <tr>\n",
       "      <th>Tripel</th>\n",
       "      <td>9.329412</td>\n",
       "      <td>16027.705882</td>\n",
       "      <td>2882.882353</td>\n",
       "      <td>4.264706</td>\n",
       "      <td>4.088235</td>\n",
       "      <td>3.970588</td>\n",
       "      <td>3.911765</td>\n",
       "      <td>4.176471</td>\n",
       "    </tr>\n",
       "    <tr>\n",
       "      <th>Vienna Lager</th>\n",
       "      <td>4.985714</td>\n",
       "      <td>19497.750000</td>\n",
       "      <td>6180.750000</td>\n",
       "      <td>3.500000</td>\n",
       "      <td>3.250000</td>\n",
       "      <td>3.375000</td>\n",
       "      <td>3.562500</td>\n",
       "      <td>3.312500</td>\n",
       "    </tr>\n",
       "    <tr>\n",
       "      <th>Weizenbock</th>\n",
       "      <td>8.350000</td>\n",
       "      <td>19540.500000</td>\n",
       "      <td>250.000000</td>\n",
       "      <td>4.000000</td>\n",
       "      <td>3.750000</td>\n",
       "      <td>4.250000</td>\n",
       "      <td>4.250000</td>\n",
       "      <td>4.250000</td>\n",
       "    </tr>\n",
       "    <tr>\n",
       "      <th>Wheatwine</th>\n",
       "      <td>11.075000</td>\n",
       "      <td>36980.000000</td>\n",
       "      <td>629.600000</td>\n",
       "      <td>3.800000</td>\n",
       "      <td>4.000000</td>\n",
       "      <td>3.500000</td>\n",
       "      <td>4.000000</td>\n",
       "      <td>3.700000</td>\n",
       "    </tr>\n",
       "    <tr>\n",
       "      <th>Witbier</th>\n",
       "      <td>6.175000</td>\n",
       "      <td>27346.600000</td>\n",
       "      <td>3583.700000</td>\n",
       "      <td>3.750000</td>\n",
       "      <td>3.650000</td>\n",
       "      <td>3.600000</td>\n",
       "      <td>3.550000</td>\n",
       "      <td>3.650000</td>\n",
       "    </tr>\n",
       "  </tbody>\n",
       "</table>\n",
       "<p>93 rows × 8 columns</p>\n",
       "</div>"
      ],
      "text/plain": [
       "                                  abv       beer_id    brewer_id  \\\n",
       "beer_style                                                         \n",
       "Altbier                      5.850000  43260.500000   419.500000   \n",
       "American Adjunct Lager       4.872727  12829.909091  2585.909091   \n",
       "American Amber / Red Ale     6.195652  28366.777778  2531.111111   \n",
       "American Amber / Red Lager   4.822857  22277.500000  5620.125000   \n",
       "American Barleywine         10.208333  32457.250000  3744.083333   \n",
       "...                               ...           ...          ...   \n",
       "Tripel                       9.329412  16027.705882  2882.882353   \n",
       "Vienna Lager                 4.985714  19497.750000  6180.750000   \n",
       "Weizenbock                   8.350000  19540.500000   250.000000   \n",
       "Wheatwine                   11.075000  36980.000000   629.600000   \n",
       "Witbier                      6.175000  27346.600000  3583.700000   \n",
       "\n",
       "                            review_appearance  review_aroma  review_overall  \\\n",
       "beer_style                                                                    \n",
       "Altbier                              4.000000      3.750000        4.000000   \n",
       "American Adjunct Lager               2.954545      2.613636        3.272727   \n",
       "American Amber / Red Ale             3.740741      3.592593        3.870370   \n",
       "American Amber / Red Lager           3.437500      3.312500        3.375000   \n",
       "American Barleywine                  3.958333      3.937500        3.729167   \n",
       "...                                       ...           ...             ...   \n",
       "Tripel                               4.264706      4.088235        3.970588   \n",
       "Vienna Lager                         3.500000      3.250000        3.375000   \n",
       "Weizenbock                           4.000000      3.750000        4.250000   \n",
       "Wheatwine                            3.800000      4.000000        3.500000   \n",
       "Witbier                              3.750000      3.650000        3.600000   \n",
       "\n",
       "                            review_palate  review_taste  \n",
       "beer_style                                               \n",
       "Altbier                          3.750000      4.000000  \n",
       "American Adjunct Lager           2.909091      2.750000  \n",
       "American Amber / Red Ale         3.555556      3.777778  \n",
       "American Amber / Red Lager       3.187500      3.125000  \n",
       "American Barleywine              3.895833      3.937500  \n",
       "...                                   ...           ...  \n",
       "Tripel                           3.911765      4.176471  \n",
       "Vienna Lager                     3.562500      3.312500  \n",
       "Weizenbock                       4.250000      4.250000  \n",
       "Wheatwine                        4.000000      3.700000  \n",
       "Witbier                          3.550000      3.650000  \n",
       "\n",
       "[93 rows x 8 columns]"
      ]
     },
     "execution_count": 33,
     "metadata": {},
     "output_type": "execute_result"
    }
   ],
   "source": [
    "df.groupby('beer_style').mean()"
   ]
  },
  {
   "cell_type": "markdown",
   "metadata": {},
   "source": [
    "This says apply the `mean` function to each column. Non-numeric columns (nusiance columns) are excluded. We can also select a subset of columns to perform the aggregation on."
   ]
  },
  {
   "cell_type": "code",
   "execution_count": 34,
   "metadata": {
    "ExecuteTime": {
     "end_time": "2019-08-13T04:21:55.536595Z",
     "start_time": "2019-08-13T04:21:55.514771Z"
    },
    "scrolled": true
   },
   "outputs": [
    {
     "data": {
      "text/html": [
       "<div>\n",
       "<style scoped>\n",
       "    .dataframe tbody tr th:only-of-type {\n",
       "        vertical-align: middle;\n",
       "    }\n",
       "\n",
       "    .dataframe tbody tr th {\n",
       "        vertical-align: top;\n",
       "    }\n",
       "\n",
       "    .dataframe thead th {\n",
       "        text-align: right;\n",
       "    }\n",
       "</style>\n",
       "<table border=\"1\" class=\"dataframe\">\n",
       "  <thead>\n",
       "    <tr style=\"text-align: right;\">\n",
       "      <th></th>\n",
       "      <th>review_appearance</th>\n",
       "      <th>review_aroma</th>\n",
       "      <th>review_overall</th>\n",
       "      <th>review_palate</th>\n",
       "      <th>review_taste</th>\n",
       "    </tr>\n",
       "    <tr>\n",
       "      <th>beer_style</th>\n",
       "      <th></th>\n",
       "      <th></th>\n",
       "      <th></th>\n",
       "      <th></th>\n",
       "      <th></th>\n",
       "    </tr>\n",
       "  </thead>\n",
       "  <tbody>\n",
       "    <tr>\n",
       "      <th>Altbier</th>\n",
       "      <td>4.000000</td>\n",
       "      <td>3.750000</td>\n",
       "      <td>4.000000</td>\n",
       "      <td>3.750000</td>\n",
       "      <td>4.000000</td>\n",
       "    </tr>\n",
       "    <tr>\n",
       "      <th>American Adjunct Lager</th>\n",
       "      <td>2.954545</td>\n",
       "      <td>2.613636</td>\n",
       "      <td>3.272727</td>\n",
       "      <td>2.909091</td>\n",
       "      <td>2.750000</td>\n",
       "    </tr>\n",
       "    <tr>\n",
       "      <th>American Amber / Red Ale</th>\n",
       "      <td>3.740741</td>\n",
       "      <td>3.592593</td>\n",
       "      <td>3.870370</td>\n",
       "      <td>3.555556</td>\n",
       "      <td>3.777778</td>\n",
       "    </tr>\n",
       "    <tr>\n",
       "      <th>American Amber / Red Lager</th>\n",
       "      <td>3.437500</td>\n",
       "      <td>3.312500</td>\n",
       "      <td>3.375000</td>\n",
       "      <td>3.187500</td>\n",
       "      <td>3.125000</td>\n",
       "    </tr>\n",
       "    <tr>\n",
       "      <th>American Barleywine</th>\n",
       "      <td>3.958333</td>\n",
       "      <td>3.937500</td>\n",
       "      <td>3.729167</td>\n",
       "      <td>3.895833</td>\n",
       "      <td>3.937500</td>\n",
       "    </tr>\n",
       "    <tr>\n",
       "      <th>...</th>\n",
       "      <td>...</td>\n",
       "      <td>...</td>\n",
       "      <td>...</td>\n",
       "      <td>...</td>\n",
       "      <td>...</td>\n",
       "    </tr>\n",
       "    <tr>\n",
       "      <th>Tripel</th>\n",
       "      <td>4.264706</td>\n",
       "      <td>4.088235</td>\n",
       "      <td>3.970588</td>\n",
       "      <td>3.911765</td>\n",
       "      <td>4.176471</td>\n",
       "    </tr>\n",
       "    <tr>\n",
       "      <th>Vienna Lager</th>\n",
       "      <td>3.500000</td>\n",
       "      <td>3.250000</td>\n",
       "      <td>3.375000</td>\n",
       "      <td>3.562500</td>\n",
       "      <td>3.312500</td>\n",
       "    </tr>\n",
       "    <tr>\n",
       "      <th>Weizenbock</th>\n",
       "      <td>4.000000</td>\n",
       "      <td>3.750000</td>\n",
       "      <td>4.250000</td>\n",
       "      <td>4.250000</td>\n",
       "      <td>4.250000</td>\n",
       "    </tr>\n",
       "    <tr>\n",
       "      <th>Wheatwine</th>\n",
       "      <td>3.800000</td>\n",
       "      <td>4.000000</td>\n",
       "      <td>3.500000</td>\n",
       "      <td>4.000000</td>\n",
       "      <td>3.700000</td>\n",
       "    </tr>\n",
       "    <tr>\n",
       "      <th>Witbier</th>\n",
       "      <td>3.750000</td>\n",
       "      <td>3.650000</td>\n",
       "      <td>3.600000</td>\n",
       "      <td>3.550000</td>\n",
       "      <td>3.650000</td>\n",
       "    </tr>\n",
       "  </tbody>\n",
       "</table>\n",
       "<p>93 rows × 5 columns</p>\n",
       "</div>"
      ],
      "text/plain": [
       "                            review_appearance  review_aroma  review_overall  \\\n",
       "beer_style                                                                    \n",
       "Altbier                              4.000000      3.750000        4.000000   \n",
       "American Adjunct Lager               2.954545      2.613636        3.272727   \n",
       "American Amber / Red Ale             3.740741      3.592593        3.870370   \n",
       "American Amber / Red Lager           3.437500      3.312500        3.375000   \n",
       "American Barleywine                  3.958333      3.937500        3.729167   \n",
       "...                                       ...           ...             ...   \n",
       "Tripel                               4.264706      4.088235        3.970588   \n",
       "Vienna Lager                         3.500000      3.250000        3.375000   \n",
       "Weizenbock                           4.000000      3.750000        4.250000   \n",
       "Wheatwine                            3.800000      4.000000        3.500000   \n",
       "Witbier                              3.750000      3.650000        3.600000   \n",
       "\n",
       "                            review_palate  review_taste  \n",
       "beer_style                                               \n",
       "Altbier                          3.750000      4.000000  \n",
       "American Adjunct Lager           2.909091      2.750000  \n",
       "American Amber / Red Ale         3.555556      3.777778  \n",
       "American Amber / Red Lager       3.187500      3.125000  \n",
       "American Barleywine              3.895833      3.937500  \n",
       "...                                   ...           ...  \n",
       "Tripel                           3.911765      4.176471  \n",
       "Vienna Lager                     3.562500      3.312500  \n",
       "Weizenbock                       4.250000      4.250000  \n",
       "Wheatwine                        4.000000      3.700000  \n",
       "Witbier                          3.550000      3.650000  \n",
       "\n",
       "[93 rows x 5 columns]"
      ]
     },
     "execution_count": 34,
     "metadata": {},
     "output_type": "execute_result"
    }
   ],
   "source": [
    "gr[review_cols].agg('mean')"
   ]
  },
  {
   "cell_type": "markdown",
   "metadata": {},
   "source": [
    "`.` attribute lookup works as well."
   ]
  },
  {
   "cell_type": "code",
   "execution_count": 35,
   "metadata": {
    "ExecuteTime": {
     "end_time": "2019-08-13T04:21:55.545523Z",
     "start_time": "2019-08-13T04:21:55.538084Z"
    },
    "scrolled": true
   },
   "outputs": [
    {
     "data": {
      "text/plain": [
       "beer_style\n",
       "Altbier                        5.850000\n",
       "American Adjunct Lager         4.872727\n",
       "American Amber / Red Ale       6.195652\n",
       "American Amber / Red Lager     4.822857\n",
       "American Barleywine           10.208333\n",
       "                                ...    \n",
       "Tripel                         9.329412\n",
       "Vienna Lager                   4.985714\n",
       "Weizenbock                     8.350000\n",
       "Wheatwine                     11.075000\n",
       "Witbier                        6.175000\n",
       "Name: abv, Length: 93, dtype: float64"
      ]
     },
     "execution_count": 35,
     "metadata": {},
     "output_type": "execute_result"
    }
   ],
   "source": [
    "gr.abv.agg('mean')"
   ]
  },
  {
   "cell_type": "markdown",
   "metadata": {},
   "source": [
    "Certain operations are attached directly to the `GroupBy` object, letting you bypass the `.agg` part"
   ]
  },
  {
   "cell_type": "code",
   "execution_count": 36,
   "metadata": {
    "ExecuteTime": {
     "end_time": "2019-08-13T04:21:55.557428Z",
     "start_time": "2019-08-13T04:21:55.547508Z"
    },
    "scrolled": true
   },
   "outputs": [
    {
     "data": {
      "text/plain": [
       "beer_style\n",
       "Altbier                        5.850000\n",
       "American Adjunct Lager         4.872727\n",
       "American Amber / Red Ale       6.195652\n",
       "American Amber / Red Lager     4.822857\n",
       "American Barleywine           10.208333\n",
       "                                ...    \n",
       "Tripel                         9.329412\n",
       "Vienna Lager                   4.985714\n",
       "Weizenbock                     8.350000\n",
       "Wheatwine                     11.075000\n",
       "Witbier                        6.175000\n",
       "Name: abv, Length: 93, dtype: float64"
      ]
     },
     "execution_count": 36,
     "metadata": {},
     "output_type": "execute_result"
    }
   ],
   "source": [
    "gr.abv.mean()"
   ]
  },
  {
   "cell_type": "markdown",
   "metadata": {},
   "source": [
    "Now we'll run the gamut on a bunch of grouper / apply combinations.\n",
    "Keep sight of the target though: split, apply, combine.\n",
    "\n",
    "- Grouper: Controls the output index\n",
    "    * single grouper -> `Index`\n",
    "    * array-like grouper -> `MultiIndex`\n",
    "- Subject (Groupee): Controls the output data values\n",
    "    * single column -> `Series` (or DataFrame if multiple aggregations)\n",
    "    * multiple columns -> `DataFrame`\n",
    "- Aggregation: Controls the output columns\n",
    "    * single aggfunc -> `Index` in the colums\n",
    "    * multiple aggfuncs -> `MultiIndex` in the columns (Or 1-D Index groupee is 1-d)"
   ]
  },
  {
   "cell_type": "markdown",
   "metadata": {},
   "source": [
    "Multiple Aggregations on one column"
   ]
  },
  {
   "cell_type": "code",
   "execution_count": 37,
   "metadata": {
    "ExecuteTime": {
     "end_time": "2019-08-13T04:21:55.572307Z",
     "start_time": "2019-08-13T04:21:55.558916Z"
    }
   },
   "outputs": [
    {
     "data": {
      "text/html": [
       "<div>\n",
       "<style scoped>\n",
       "    .dataframe tbody tr th:only-of-type {\n",
       "        vertical-align: middle;\n",
       "    }\n",
       "\n",
       "    .dataframe tbody tr th {\n",
       "        vertical-align: top;\n",
       "    }\n",
       "\n",
       "    .dataframe thead th {\n",
       "        text-align: right;\n",
       "    }\n",
       "</style>\n",
       "<table border=\"1\" class=\"dataframe\">\n",
       "  <thead>\n",
       "    <tr style=\"text-align: right;\">\n",
       "      <th></th>\n",
       "      <th>mean</th>\n",
       "      <th>std</th>\n",
       "      <th>count</th>\n",
       "    </tr>\n",
       "    <tr>\n",
       "      <th>beer_style</th>\n",
       "      <th></th>\n",
       "      <th></th>\n",
       "      <th></th>\n",
       "    </tr>\n",
       "  </thead>\n",
       "  <tbody>\n",
       "    <tr>\n",
       "      <th>Altbier</th>\n",
       "      <td>3.750000</td>\n",
       "      <td>0.353553</td>\n",
       "      <td>2</td>\n",
       "    </tr>\n",
       "    <tr>\n",
       "      <th>American Adjunct Lager</th>\n",
       "      <td>2.613636</td>\n",
       "      <td>0.596255</td>\n",
       "      <td>22</td>\n",
       "    </tr>\n",
       "    <tr>\n",
       "      <th>American Amber / Red Ale</th>\n",
       "      <td>3.592593</td>\n",
       "      <td>0.636049</td>\n",
       "      <td>27</td>\n",
       "    </tr>\n",
       "    <tr>\n",
       "      <th>American Amber / Red Lager</th>\n",
       "      <td>3.312500</td>\n",
       "      <td>0.842509</td>\n",
       "      <td>8</td>\n",
       "    </tr>\n",
       "    <tr>\n",
       "      <th>American Barleywine</th>\n",
       "      <td>3.937500</td>\n",
       "      <td>0.449940</td>\n",
       "      <td>24</td>\n",
       "    </tr>\n",
       "  </tbody>\n",
       "</table>\n",
       "</div>"
      ],
      "text/plain": [
       "                                mean       std  count\n",
       "beer_style                                           \n",
       "Altbier                     3.750000  0.353553      2\n",
       "American Adjunct Lager      2.613636  0.596255     22\n",
       "American Amber / Red Ale    3.592593  0.636049     27\n",
       "American Amber / Red Lager  3.312500  0.842509      8\n",
       "American Barleywine         3.937500  0.449940     24"
      ]
     },
     "execution_count": 37,
     "metadata": {},
     "output_type": "execute_result"
    }
   ],
   "source": [
    "gr['review_aroma'].agg(['mean', 'std', 'count']).head()"
   ]
  },
  {
   "cell_type": "markdown",
   "metadata": {},
   "source": [
    "Single Aggregation on multiple columns"
   ]
  },
  {
   "cell_type": "code",
   "execution_count": 38,
   "metadata": {
    "ExecuteTime": {
     "end_time": "2019-08-13T04:21:55.593168Z",
     "start_time": "2019-08-13T04:21:55.573796Z"
    },
    "scrolled": true
   },
   "outputs": [
    {
     "data": {
      "text/html": [
       "<div>\n",
       "<style scoped>\n",
       "    .dataframe tbody tr th:only-of-type {\n",
       "        vertical-align: middle;\n",
       "    }\n",
       "\n",
       "    .dataframe tbody tr th {\n",
       "        vertical-align: top;\n",
       "    }\n",
       "\n",
       "    .dataframe thead th {\n",
       "        text-align: right;\n",
       "    }\n",
       "</style>\n",
       "<table border=\"1\" class=\"dataframe\">\n",
       "  <thead>\n",
       "    <tr style=\"text-align: right;\">\n",
       "      <th></th>\n",
       "      <th>review_appearance</th>\n",
       "      <th>review_aroma</th>\n",
       "      <th>review_overall</th>\n",
       "      <th>review_palate</th>\n",
       "      <th>review_taste</th>\n",
       "    </tr>\n",
       "    <tr>\n",
       "      <th>beer_style</th>\n",
       "      <th></th>\n",
       "      <th></th>\n",
       "      <th></th>\n",
       "      <th></th>\n",
       "      <th></th>\n",
       "    </tr>\n",
       "  </thead>\n",
       "  <tbody>\n",
       "    <tr>\n",
       "      <th>Altbier</th>\n",
       "      <td>4.000000</td>\n",
       "      <td>3.750000</td>\n",
       "      <td>4.000000</td>\n",
       "      <td>3.750000</td>\n",
       "      <td>4.000000</td>\n",
       "    </tr>\n",
       "    <tr>\n",
       "      <th>American Adjunct Lager</th>\n",
       "      <td>2.954545</td>\n",
       "      <td>2.613636</td>\n",
       "      <td>3.272727</td>\n",
       "      <td>2.909091</td>\n",
       "      <td>2.750000</td>\n",
       "    </tr>\n",
       "    <tr>\n",
       "      <th>American Amber / Red Ale</th>\n",
       "      <td>3.740741</td>\n",
       "      <td>3.592593</td>\n",
       "      <td>3.870370</td>\n",
       "      <td>3.555556</td>\n",
       "      <td>3.777778</td>\n",
       "    </tr>\n",
       "    <tr>\n",
       "      <th>American Amber / Red Lager</th>\n",
       "      <td>3.437500</td>\n",
       "      <td>3.312500</td>\n",
       "      <td>3.375000</td>\n",
       "      <td>3.187500</td>\n",
       "      <td>3.125000</td>\n",
       "    </tr>\n",
       "    <tr>\n",
       "      <th>American Barleywine</th>\n",
       "      <td>3.958333</td>\n",
       "      <td>3.937500</td>\n",
       "      <td>3.729167</td>\n",
       "      <td>3.895833</td>\n",
       "      <td>3.937500</td>\n",
       "    </tr>\n",
       "    <tr>\n",
       "      <th>...</th>\n",
       "      <td>...</td>\n",
       "      <td>...</td>\n",
       "      <td>...</td>\n",
       "      <td>...</td>\n",
       "      <td>...</td>\n",
       "    </tr>\n",
       "    <tr>\n",
       "      <th>Tripel</th>\n",
       "      <td>4.264706</td>\n",
       "      <td>4.088235</td>\n",
       "      <td>3.970588</td>\n",
       "      <td>3.911765</td>\n",
       "      <td>4.176471</td>\n",
       "    </tr>\n",
       "    <tr>\n",
       "      <th>Vienna Lager</th>\n",
       "      <td>3.500000</td>\n",
       "      <td>3.250000</td>\n",
       "      <td>3.375000</td>\n",
       "      <td>3.562500</td>\n",
       "      <td>3.312500</td>\n",
       "    </tr>\n",
       "    <tr>\n",
       "      <th>Weizenbock</th>\n",
       "      <td>4.000000</td>\n",
       "      <td>3.750000</td>\n",
       "      <td>4.250000</td>\n",
       "      <td>4.250000</td>\n",
       "      <td>4.250000</td>\n",
       "    </tr>\n",
       "    <tr>\n",
       "      <th>Wheatwine</th>\n",
       "      <td>3.800000</td>\n",
       "      <td>4.000000</td>\n",
       "      <td>3.500000</td>\n",
       "      <td>4.000000</td>\n",
       "      <td>3.700000</td>\n",
       "    </tr>\n",
       "    <tr>\n",
       "      <th>Witbier</th>\n",
       "      <td>3.750000</td>\n",
       "      <td>3.650000</td>\n",
       "      <td>3.600000</td>\n",
       "      <td>3.550000</td>\n",
       "      <td>3.650000</td>\n",
       "    </tr>\n",
       "  </tbody>\n",
       "</table>\n",
       "<p>93 rows × 5 columns</p>\n",
       "</div>"
      ],
      "text/plain": [
       "                            review_appearance  review_aroma  review_overall  \\\n",
       "beer_style                                                                    \n",
       "Altbier                              4.000000      3.750000        4.000000   \n",
       "American Adjunct Lager               2.954545      2.613636        3.272727   \n",
       "American Amber / Red Ale             3.740741      3.592593        3.870370   \n",
       "American Amber / Red Lager           3.437500      3.312500        3.375000   \n",
       "American Barleywine                  3.958333      3.937500        3.729167   \n",
       "...                                       ...           ...             ...   \n",
       "Tripel                               4.264706      4.088235        3.970588   \n",
       "Vienna Lager                         3.500000      3.250000        3.375000   \n",
       "Weizenbock                           4.000000      3.750000        4.250000   \n",
       "Wheatwine                            3.800000      4.000000        3.500000   \n",
       "Witbier                              3.750000      3.650000        3.600000   \n",
       "\n",
       "                            review_palate  review_taste  \n",
       "beer_style                                               \n",
       "Altbier                          3.750000      4.000000  \n",
       "American Adjunct Lager           2.909091      2.750000  \n",
       "American Amber / Red Ale         3.555556      3.777778  \n",
       "American Amber / Red Lager       3.187500      3.125000  \n",
       "American Barleywine              3.895833      3.937500  \n",
       "...                                   ...           ...  \n",
       "Tripel                           3.911765      4.176471  \n",
       "Vienna Lager                     3.562500      3.312500  \n",
       "Weizenbock                       4.250000      4.250000  \n",
       "Wheatwine                        4.000000      3.700000  \n",
       "Witbier                          3.550000      3.650000  \n",
       "\n",
       "[93 rows x 5 columns]"
      ]
     },
     "execution_count": 38,
     "metadata": {},
     "output_type": "execute_result"
    }
   ],
   "source": [
    "gr[review_cols].mean()"
   ]
  },
  {
   "cell_type": "markdown",
   "metadata": {
    "collapsed": true
   },
   "source": [
    "Multiple aggregations on multiple columns"
   ]
  },
  {
   "cell_type": "code",
   "execution_count": 39,
   "metadata": {
    "ExecuteTime": {
     "end_time": "2019-08-13T04:21:55.656627Z",
     "start_time": "2019-08-13T04:21:55.594656Z"
    }
   },
   "outputs": [
    {
     "data": {
      "text/html": [
       "<div>\n",
       "<style scoped>\n",
       "    .dataframe tbody tr th:only-of-type {\n",
       "        vertical-align: middle;\n",
       "    }\n",
       "\n",
       "    .dataframe tbody tr th {\n",
       "        vertical-align: top;\n",
       "    }\n",
       "\n",
       "    .dataframe thead tr th {\n",
       "        text-align: left;\n",
       "    }\n",
       "\n",
       "    .dataframe thead tr:last-of-type th {\n",
       "        text-align: right;\n",
       "    }\n",
       "</style>\n",
       "<table border=\"1\" class=\"dataframe\">\n",
       "  <thead>\n",
       "    <tr>\n",
       "      <th></th>\n",
       "      <th colspan=\"3\" halign=\"left\">review_appearance</th>\n",
       "      <th colspan=\"3\" halign=\"left\">review_aroma</th>\n",
       "      <th colspan=\"3\" halign=\"left\">review_overall</th>\n",
       "      <th colspan=\"3\" halign=\"left\">review_palate</th>\n",
       "      <th colspan=\"3\" halign=\"left\">review_taste</th>\n",
       "    </tr>\n",
       "    <tr>\n",
       "      <th></th>\n",
       "      <th>mean</th>\n",
       "      <th>count</th>\n",
       "      <th>std</th>\n",
       "      <th>mean</th>\n",
       "      <th>count</th>\n",
       "      <th>std</th>\n",
       "      <th>mean</th>\n",
       "      <th>count</th>\n",
       "      <th>std</th>\n",
       "      <th>mean</th>\n",
       "      <th>count</th>\n",
       "      <th>std</th>\n",
       "      <th>mean</th>\n",
       "      <th>count</th>\n",
       "      <th>std</th>\n",
       "    </tr>\n",
       "    <tr>\n",
       "      <th>beer_style</th>\n",
       "      <th></th>\n",
       "      <th></th>\n",
       "      <th></th>\n",
       "      <th></th>\n",
       "      <th></th>\n",
       "      <th></th>\n",
       "      <th></th>\n",
       "      <th></th>\n",
       "      <th></th>\n",
       "      <th></th>\n",
       "      <th></th>\n",
       "      <th></th>\n",
       "      <th></th>\n",
       "      <th></th>\n",
       "      <th></th>\n",
       "    </tr>\n",
       "  </thead>\n",
       "  <tbody>\n",
       "    <tr>\n",
       "      <th>Altbier</th>\n",
       "      <td>4.000000</td>\n",
       "      <td>2</td>\n",
       "      <td>0.707107</td>\n",
       "      <td>3.750000</td>\n",
       "      <td>2</td>\n",
       "      <td>0.353553</td>\n",
       "      <td>4.000000</td>\n",
       "      <td>2</td>\n",
       "      <td>0.000000</td>\n",
       "      <td>3.750000</td>\n",
       "      <td>2</td>\n",
       "      <td>0.353553</td>\n",
       "      <td>4.000000</td>\n",
       "      <td>2</td>\n",
       "      <td>0.000000</td>\n",
       "    </tr>\n",
       "    <tr>\n",
       "      <th>American Adjunct Lager</th>\n",
       "      <td>2.954545</td>\n",
       "      <td>22</td>\n",
       "      <td>0.722250</td>\n",
       "      <td>2.613636</td>\n",
       "      <td>22</td>\n",
       "      <td>0.596255</td>\n",
       "      <td>3.272727</td>\n",
       "      <td>22</td>\n",
       "      <td>0.667748</td>\n",
       "      <td>2.909091</td>\n",
       "      <td>22</td>\n",
       "      <td>0.478996</td>\n",
       "      <td>2.750000</td>\n",
       "      <td>22</td>\n",
       "      <td>0.631514</td>\n",
       "    </tr>\n",
       "    <tr>\n",
       "      <th>American Amber / Red Ale</th>\n",
       "      <td>3.740741</td>\n",
       "      <td>27</td>\n",
       "      <td>0.625890</td>\n",
       "      <td>3.592593</td>\n",
       "      <td>27</td>\n",
       "      <td>0.636049</td>\n",
       "      <td>3.870370</td>\n",
       "      <td>27</td>\n",
       "      <td>0.629294</td>\n",
       "      <td>3.555556</td>\n",
       "      <td>27</td>\n",
       "      <td>0.640513</td>\n",
       "      <td>3.777778</td>\n",
       "      <td>27</td>\n",
       "      <td>0.763763</td>\n",
       "    </tr>\n",
       "    <tr>\n",
       "      <th>American Amber / Red Lager</th>\n",
       "      <td>3.437500</td>\n",
       "      <td>8</td>\n",
       "      <td>0.417261</td>\n",
       "      <td>3.312500</td>\n",
       "      <td>8</td>\n",
       "      <td>0.842509</td>\n",
       "      <td>3.375000</td>\n",
       "      <td>8</td>\n",
       "      <td>1.187735</td>\n",
       "      <td>3.187500</td>\n",
       "      <td>8</td>\n",
       "      <td>0.961305</td>\n",
       "      <td>3.125000</td>\n",
       "      <td>8</td>\n",
       "      <td>1.125992</td>\n",
       "    </tr>\n",
       "    <tr>\n",
       "      <th>American Barleywine</th>\n",
       "      <td>3.958333</td>\n",
       "      <td>24</td>\n",
       "      <td>0.529903</td>\n",
       "      <td>3.937500</td>\n",
       "      <td>24</td>\n",
       "      <td>0.449940</td>\n",
       "      <td>3.729167</td>\n",
       "      <td>24</td>\n",
       "      <td>0.465766</td>\n",
       "      <td>3.895833</td>\n",
       "      <td>24</td>\n",
       "      <td>0.389514</td>\n",
       "      <td>3.937500</td>\n",
       "      <td>24</td>\n",
       "      <td>0.517362</td>\n",
       "    </tr>\n",
       "    <tr>\n",
       "      <th>...</th>\n",
       "      <td>...</td>\n",
       "      <td>...</td>\n",
       "      <td>...</td>\n",
       "      <td>...</td>\n",
       "      <td>...</td>\n",
       "      <td>...</td>\n",
       "      <td>...</td>\n",
       "      <td>...</td>\n",
       "      <td>...</td>\n",
       "      <td>...</td>\n",
       "      <td>...</td>\n",
       "      <td>...</td>\n",
       "      <td>...</td>\n",
       "      <td>...</td>\n",
       "      <td>...</td>\n",
       "    </tr>\n",
       "    <tr>\n",
       "      <th>Tripel</th>\n",
       "      <td>4.264706</td>\n",
       "      <td>17</td>\n",
       "      <td>0.358715</td>\n",
       "      <td>4.088235</td>\n",
       "      <td>17</td>\n",
       "      <td>0.363803</td>\n",
       "      <td>3.970588</td>\n",
       "      <td>17</td>\n",
       "      <td>0.329326</td>\n",
       "      <td>3.911765</td>\n",
       "      <td>17</td>\n",
       "      <td>0.317967</td>\n",
       "      <td>4.176471</td>\n",
       "      <td>17</td>\n",
       "      <td>0.350944</td>\n",
       "    </tr>\n",
       "    <tr>\n",
       "      <th>Vienna Lager</th>\n",
       "      <td>3.500000</td>\n",
       "      <td>8</td>\n",
       "      <td>0.377964</td>\n",
       "      <td>3.250000</td>\n",
       "      <td>8</td>\n",
       "      <td>0.534522</td>\n",
       "      <td>3.375000</td>\n",
       "      <td>8</td>\n",
       "      <td>0.517549</td>\n",
       "      <td>3.562500</td>\n",
       "      <td>8</td>\n",
       "      <td>0.678101</td>\n",
       "      <td>3.312500</td>\n",
       "      <td>8</td>\n",
       "      <td>0.458063</td>\n",
       "    </tr>\n",
       "    <tr>\n",
       "      <th>Weizenbock</th>\n",
       "      <td>4.000000</td>\n",
       "      <td>2</td>\n",
       "      <td>0.000000</td>\n",
       "      <td>3.750000</td>\n",
       "      <td>2</td>\n",
       "      <td>0.353553</td>\n",
       "      <td>4.250000</td>\n",
       "      <td>2</td>\n",
       "      <td>0.353553</td>\n",
       "      <td>4.250000</td>\n",
       "      <td>2</td>\n",
       "      <td>0.353553</td>\n",
       "      <td>4.250000</td>\n",
       "      <td>2</td>\n",
       "      <td>0.353553</td>\n",
       "    </tr>\n",
       "    <tr>\n",
       "      <th>Wheatwine</th>\n",
       "      <td>3.800000</td>\n",
       "      <td>5</td>\n",
       "      <td>0.273861</td>\n",
       "      <td>4.000000</td>\n",
       "      <td>5</td>\n",
       "      <td>0.353553</td>\n",
       "      <td>3.500000</td>\n",
       "      <td>5</td>\n",
       "      <td>0.353553</td>\n",
       "      <td>4.000000</td>\n",
       "      <td>5</td>\n",
       "      <td>0.000000</td>\n",
       "      <td>3.700000</td>\n",
       "      <td>5</td>\n",
       "      <td>0.447214</td>\n",
       "    </tr>\n",
       "    <tr>\n",
       "      <th>Witbier</th>\n",
       "      <td>3.750000</td>\n",
       "      <td>10</td>\n",
       "      <td>0.540062</td>\n",
       "      <td>3.650000</td>\n",
       "      <td>10</td>\n",
       "      <td>0.625833</td>\n",
       "      <td>3.600000</td>\n",
       "      <td>10</td>\n",
       "      <td>0.658281</td>\n",
       "      <td>3.550000</td>\n",
       "      <td>10</td>\n",
       "      <td>0.761942</td>\n",
       "      <td>3.650000</td>\n",
       "      <td>10</td>\n",
       "      <td>0.529675</td>\n",
       "    </tr>\n",
       "  </tbody>\n",
       "</table>\n",
       "<p>93 rows × 15 columns</p>\n",
       "</div>"
      ],
      "text/plain": [
       "                           review_appearance                 review_aroma  \\\n",
       "                                        mean count       std         mean   \n",
       "beer_style                                                                  \n",
       "Altbier                             4.000000     2  0.707107     3.750000   \n",
       "American Adjunct Lager              2.954545    22  0.722250     2.613636   \n",
       "American Amber / Red Ale            3.740741    27  0.625890     3.592593   \n",
       "American Amber / Red Lager          3.437500     8  0.417261     3.312500   \n",
       "American Barleywine                 3.958333    24  0.529903     3.937500   \n",
       "...                                      ...   ...       ...          ...   \n",
       "Tripel                              4.264706    17  0.358715     4.088235   \n",
       "Vienna Lager                        3.500000     8  0.377964     3.250000   \n",
       "Weizenbock                          4.000000     2  0.000000     3.750000   \n",
       "Wheatwine                           3.800000     5  0.273861     4.000000   \n",
       "Witbier                             3.750000    10  0.540062     3.650000   \n",
       "\n",
       "                                           review_overall                  \\\n",
       "                           count       std           mean count       std   \n",
       "beer_style                                                                  \n",
       "Altbier                        2  0.353553       4.000000     2  0.000000   \n",
       "American Adjunct Lager        22  0.596255       3.272727    22  0.667748   \n",
       "American Amber / Red Ale      27  0.636049       3.870370    27  0.629294   \n",
       "American Amber / Red Lager     8  0.842509       3.375000     8  1.187735   \n",
       "American Barleywine           24  0.449940       3.729167    24  0.465766   \n",
       "...                          ...       ...            ...   ...       ...   \n",
       "Tripel                        17  0.363803       3.970588    17  0.329326   \n",
       "Vienna Lager                   8  0.534522       3.375000     8  0.517549   \n",
       "Weizenbock                     2  0.353553       4.250000     2  0.353553   \n",
       "Wheatwine                      5  0.353553       3.500000     5  0.353553   \n",
       "Witbier                       10  0.625833       3.600000    10  0.658281   \n",
       "\n",
       "                           review_palate                 review_taste        \\\n",
       "                                    mean count       std         mean count   \n",
       "beer_style                                                                    \n",
       "Altbier                         3.750000     2  0.353553     4.000000     2   \n",
       "American Adjunct Lager          2.909091    22  0.478996     2.750000    22   \n",
       "American Amber / Red Ale        3.555556    27  0.640513     3.777778    27   \n",
       "American Amber / Red Lager      3.187500     8  0.961305     3.125000     8   \n",
       "American Barleywine             3.895833    24  0.389514     3.937500    24   \n",
       "...                                  ...   ...       ...          ...   ...   \n",
       "Tripel                          3.911765    17  0.317967     4.176471    17   \n",
       "Vienna Lager                    3.562500     8  0.678101     3.312500     8   \n",
       "Weizenbock                      4.250000     2  0.353553     4.250000     2   \n",
       "Wheatwine                       4.000000     5  0.000000     3.700000     5   \n",
       "Witbier                         3.550000    10  0.761942     3.650000    10   \n",
       "\n",
       "                                      \n",
       "                                 std  \n",
       "beer_style                            \n",
       "Altbier                     0.000000  \n",
       "American Adjunct Lager      0.631514  \n",
       "American Amber / Red Ale    0.763763  \n",
       "American Amber / Red Lager  1.125992  \n",
       "American Barleywine         0.517362  \n",
       "...                              ...  \n",
       "Tripel                      0.350944  \n",
       "Vienna Lager                0.458063  \n",
       "Weizenbock                  0.353553  \n",
       "Wheatwine                   0.447214  \n",
       "Witbier                     0.529675  \n",
       "\n",
       "[93 rows x 15 columns]"
      ]
     },
     "execution_count": 39,
     "metadata": {},
     "output_type": "execute_result"
    }
   ],
   "source": [
    "gr[review_cols].agg(['mean', 'count', 'std'])"
   ]
  },
  {
   "cell_type": "code",
   "execution_count": null,
   "metadata": {},
   "outputs": [],
   "source": []
  },
  {
   "cell_type": "code",
   "execution_count": null,
   "metadata": {},
   "outputs": [],
   "source": []
  },
  {
   "cell_type": "code",
   "execution_count": null,
   "metadata": {},
   "outputs": [],
   "source": []
  }
 ],
 "metadata": {
  "kernelspec": {
   "display_name": "Python 3",
   "language": "python",
   "name": "python3"
  },
  "language_info": {
   "codemirror_mode": {
    "name": "ipython",
    "version": 3
   },
   "file_extension": ".py",
   "mimetype": "text/x-python",
   "name": "python",
   "nbconvert_exporter": "python",
   "pygments_lexer": "ipython3",
   "version": "3.7.4"
  },
  "toc": {
   "base_numbering": 1,
   "nav_menu": {},
   "number_sections": true,
   "sideBar": true,
   "skip_h1_title": false,
   "title_cell": "Table of Contents",
   "title_sidebar": "Contents",
   "toc_cell": false,
   "toc_position": {},
   "toc_section_display": true,
   "toc_window_display": false
  },
  "varInspector": {
   "cols": {
    "lenName": 16,
    "lenType": 16,
    "lenVar": 40
   },
   "kernels_config": {
    "python": {
     "delete_cmd_postfix": "",
     "delete_cmd_prefix": "del ",
     "library": "var_list.py",
     "varRefreshCmd": "print(var_dic_list())"
    },
    "r": {
     "delete_cmd_postfix": ") ",
     "delete_cmd_prefix": "rm(",
     "library": "var_list.r",
     "varRefreshCmd": "cat(var_dic_list()) "
    }
   },
   "types_to_exclude": [
    "module",
    "function",
    "builtin_function_or_method",
    "instance",
    "_Feature"
   ],
   "window_display": false
  }
 },
 "nbformat": 4,
 "nbformat_minor": 2
}
